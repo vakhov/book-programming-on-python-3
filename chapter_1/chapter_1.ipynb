{
  "cells": [
    {
      "cell_type": "markdown",
      "source": "python спокойно относится в момент преобразования строки в число к пробелам в начале и в конце",
      "metadata": {
        "pycharm": {
          "metadata": false,
          "name": "#%% md\n"
        }
      }
    },
    {
      "cell_type": "code",
      "execution_count": null,
      "outputs": [],
      "source": "a \u003d \u0027    322_312   \u0027\nprint(int(a))",
      "metadata": {
        "pycharm": {
          "metadata": false,
          "name": "#%%\n"
        }
      }
    },
    {
      "cell_type": "code",
      "execution_count": null,
      "outputs": [],
      "source": "a \u003d 1\nb \u003d \u0027str\u0027\nc \u003d 3.14\nd \u003d True",
      "metadata": {
        "pycharm": {
          "metadata": false,
          "name": "#%%\n"
        }
      }
    },
    {
      "cell_type": "markdown",
      "source": "функция type() возвращает тип данных (который так же называется \"классом\") для указанного элеманта. Функция полезна на этапе тестирования, но в готовом програмном коде как правило не используется, т.к. существует более удобная альтернатива isinstance\n",
      "metadata": {
        "pycharm": {
          "metadata": false
        }
      }
    },
    {
      "cell_type": "code",
      "execution_count": null,
      "outputs": [],
      "source": "print(type(a), type(b), type(c), type(d))",
      "metadata": {
        "pycharm": {
          "metadata": false,
          "name": "#%%\n"
        }
      }
    },
    {
      "cell_type": "code",
      "execution_count": null,
      "outputs": [],
      "source": "print(isinstance(a, int), isinstance(b, str), isinstance(c, float), isinstance(d, bool))",
      "metadata": {
        "pycharm": {
          "metadata": false,
          "name": "#%%\n"
        }
      }
    },
    {
      "cell_type": "code",
      "execution_count": 9,
      "outputs": [
        {
          "data": {
            "text/plain": "tuple"
          },
          "metadata": {},
          "output_type": "execute_result",
          "execution_count": 9
        }
      ],
      "source": "# Кортеж\ntype((\u0027One\u0027, \u0027Two\u0027, \u0027Three\u0027))\ntype((\u0027One\u0027,))\ntype(())",
      "metadata": {
        "pycharm": {
          "metadata": false,
          "name": "#%%\n",
          "is_executing": false
        }
      }
    },
    {
      "cell_type": "code",
      "execution_count": 15,
      "outputs": [
        {
          "data": {
            "text/plain": "list"
          },
          "metadata": {},
          "output_type": "execute_result",
          "execution_count": 15
        }
      ],
      "source": "# Списки\n[1, 4, 9, 16, 25, 36, 49]\n[\u0027zebra\u0027, 1, -44, True]\n[] # empty list",
      "metadata": {
        "pycharm": {
          "metadata": false,
          "name": "#%%\n",
          "is_executing": false
        }
      }
    },
    {
      "cell_type": "code",
      "execution_count": 16,
      "outputs": [
        {
          "data": {
            "text/plain": "1"
          },
          "metadata": {},
          "output_type": "execute_result",
          "execution_count": 16
        }
      ],
      "source": "len((\u0027One\u0027,))",
      "metadata": {
        "pycharm": {
          "metadata": false,
          "name": "#%%\n",
          "is_executing": false
        }
      }
    },
    {
      "cell_type": "code",
      "execution_count": 18,
      "outputs": [
        {
          "data": {
            "text/plain": "6"
          },
          "metadata": {},
          "output_type": "execute_result",
          "execution_count": 18
        }
      ],
      "source": "len(\u0027lalala\u0027)",
      "metadata": {
        "pycharm": {
          "metadata": false,
          "name": "#%%\n",
          "is_executing": false
        }
      }
    },
    {
      "cell_type": "code",
      "execution_count": 19,
      "outputs": [
        {
          "data": {
            "text/plain": "4"
          },
          "metadata": {},
          "output_type": "execute_result",
          "execution_count": 19
        }
      ],
      "source": "len([1,2,3,4])",
      "metadata": {
        "pycharm": {
          "metadata": false,
          "name": "#%%\n",
          "is_executing": false
        }
      }
    },
    {
      "cell_type": "code",
      "execution_count": 23,
      "outputs": [
        {
          "data": {
            "text/plain": "[\u0027zebra\u0027, 1, 4, 7, \u0027lenta\u0027]"
          },
          "metadata": {},
          "output_type": "execute_result",
          "execution_count": 23
        }
      ],
      "source": "x \u003d [\u0027zebra\u0027, 1, 4, 7]\nx.append(\u0027lenta\u0027)\nx",
      "metadata": {
        "pycharm": {
          "metadata": false,
          "name": "#%%\n",
          "is_executing": false
        }
      }
    },
    {
      "cell_type": "code",
      "execution_count": 24,
      "outputs": [
        {
          "data": {
            "text/plain": "[\u0027zebra\u0027, 1, 4, 7, \u0027lenta\u0027, \u0027soup\u0027]"
          },
          "metadata": {},
          "output_type": "execute_result",
          "execution_count": 24
        }
      ],
      "source": "list.append(x, \u0027soup\u0027)\nx",
      "metadata": {
        "pycharm": {
          "metadata": false,
          "name": "#%%\n",
          "is_executing": false
        }
      }
    },
    {
      "cell_type": "code",
      "execution_count": 26,
      "outputs": [
        {
          "data": {
            "text/plain": "False"
          },
          "metadata": {},
          "output_type": "execute_result",
          "execution_count": 26
        }
      ],
      "source": "# Оператор is двуместный. True - если ссылка с права и ссылка с лева ссылаются на один и тот же объект\na \u003d [\u0027One\u0027, 1, True]\nb \u003d [\u0027One\u0027, 1, True]\na is b",
      "metadata": {
        "pycharm": {
          "metadata": false,
          "name": "#%%\n",
          "is_executing": false
        }
      }
    },
    {
      "cell_type": "code",
      "execution_count": 27,
      "outputs": [
        {
          "data": {
            "text/plain": "True"
          },
          "metadata": {},
          "output_type": "execute_result",
          "execution_count": 27
        }
      ],
      "source": "b \u003d a\na is b",
      "metadata": {
        "pycharm": {
          "metadata": false,
          "name": "#%%\n",
          "is_executing": false
        }
      }
    },
    {
      "cell_type": "code",
      "execution_count": 28,
      "outputs": [
        {
          "data": {
            "text/plain": "True"
          },
          "metadata": {},
          "output_type": "execute_result",
          "execution_count": 28
        }
      ],
      "source": "a \u003d 1\nb \u003d 1\na is b",
      "metadata": {
        "pycharm": {
          "metadata": false,
          "name": "#%%\n",
          "is_executing": false
        }
      }
    },
    {
      "cell_type": "code",
      "execution_count": 31,
      "outputs": [
        {
          "data": {
            "text/plain": "(True, True)"
          },
          "metadata": {},
          "output_type": "execute_result",
          "execution_count": 31
        }
      ],
      "source": "a \u003d \u0027Something\u0027\nb \u003d None\na is not None, b is None",
      "metadata": {
        "pycharm": {
          "metadata": false,
          "name": "#%%\n",
          "is_executing": false
        }
      }
    },
    {
      "cell_type": "code",
      "execution_count": 32,
      "outputs": [
        {
          "data": {
            "text/plain": "False"
          },
          "metadata": {},
          "output_type": "execute_result",
          "execution_count": 32
        }
      ],
      "source": "a \u003d 2\nb \u003d 6\na \u003d\u003d b",
      "metadata": {
        "pycharm": {
          "metadata": false,
          "name": "#%%\n",
          "is_executing": false
        }
      }
    },
    {
      "cell_type": "code",
      "execution_count": 33,
      "outputs": [
        {
          "data": {
            "text/plain": "True"
          },
          "metadata": {},
          "output_type": "execute_result",
          "execution_count": 33
        }
      ],
      "source": "a \u003c b",
      "metadata": {
        "pycharm": {
          "metadata": false,
          "name": "#%%\n",
          "is_executing": false
        }
      }
    },
    {
      "cell_type": "code",
      "execution_count": 34,
      "outputs": [
        {
          "data": {
            "text/plain": "(True, True, False, False)"
          },
          "metadata": {},
          "output_type": "execute_result",
          "execution_count": 34
        }
      ],
      "source": "a \u003c\u003d b, a !\u003d b, a \u003e\u003d b, a \u003e b",
      "metadata": {
        "pycharm": {
          "metadata": false,
          "name": "#%%\n",
          "is_executing": false
        }
      }
    },
    {
      "cell_type": "code",
      "execution_count": 36,
      "outputs": [
        {
          "data": {
            "text/plain": "False"
          },
          "metadata": {},
          "output_type": "execute_result",
          "execution_count": 36
        }
      ],
      "source": "# сравнение строк\na \u003d \u0027many path\u0027\nb \u003d \u0027many path\u0027\na is b",
      "metadata": {
        "pycharm": {
          "metadata": false,
          "name": "#%%\n",
          "is_executing": false
        }
      }
    },
    {
      "cell_type": "code",
      "execution_count": 37,
      "outputs": [
        {
          "data": {
            "text/plain": "True"
          },
          "metadata": {},
          "output_type": "execute_result",
          "execution_count": 37
        }
      ],
      "source": "a \u003d\u003d b",
      "metadata": {
        "pycharm": {
          "metadata": false,
          "name": "#%%\n",
          "is_executing": false
        }
      }
    },
    {
      "cell_type": "code",
      "execution_count": 38,
      "outputs": [
        {
          "data": {
            "text/plain": "True"
          },
          "metadata": {},
          "output_type": "execute_result",
          "execution_count": 38
        }
      ],
      "source": "a \u003d 9\n0 \u003c\u003d a \u003c\u003d 10",
      "metadata": {
        "pycharm": {
          "metadata": false,
          "name": "#%%\n",
          "is_executing": false
        }
      }
    },
    {
      "cell_type": "code",
      "execution_count": 39,
      "outputs": [
        {
          "traceback": [
            "\u001b[0;31m---------------------------------------------------------------------------\u001b[0m",
            "\u001b[0;31mTypeError\u001b[0m                                 Traceback (most recent call last)",
            "\u001b[0;32m\u003cipython-input-39-f983713dbd12\u003e\u001b[0m in \u001b[0;36m\u003cmodule\u003e\u001b[0;34m\u001b[0m\n\u001b[0;32m----\u003e 1\u001b[0;31m \u001b[0;34m\u0027three\u0027\u001b[0m \u001b[0;34m\u003c\u001b[0m \u001b[0;36m4\u001b[0m\u001b[0;34m\u001b[0m\u001b[0;34m\u001b[0m\u001b[0m\n\u001b[0m",
            "\u001b[0;31mTypeError\u001b[0m: \u0027\u003c\u0027 not supported between instances of \u0027str\u0027 and \u0027int\u0027"
          ],
          "ename": "TypeError",
          "evalue": "\u0027\u003c\u0027 not supported between instances of \u0027str\u0027 and \u0027int\u0027",
          "output_type": "error"
        }
      ],
      "source": "\u0027three\u0027 \u003c 4",
      "metadata": {
        "pycharm": {
          "metadata": false,
          "name": "#%%\n",
          "is_executing": false
        }
      }
    },
    {
      "cell_type": "code",
      "execution_count": 40,
      "outputs": [
        {
          "traceback": [
            "\u001b[0;31m---------------------------------------------------------------------------\u001b[0m",
            "\u001b[0;31mTypeError\u001b[0m                                 Traceback (most recent call last)",
            "\u001b[0;32m\u003cipython-input-40-40f8f80811cd\u003e\u001b[0m in \u001b[0;36m\u003cmodule\u003e\u001b[0;34m\u001b[0m\n\u001b[0;32m----\u003e 1\u001b[0;31m \u001b[0;34m\u00273\u0027\u001b[0m \u001b[0;34m\u003c\u001b[0m \u001b[0;36m4\u001b[0m\u001b[0;34m\u001b[0m\u001b[0;34m\u001b[0m\u001b[0m\n\u001b[0m",
            "\u001b[0;31mTypeError\u001b[0m: \u0027\u003c\u0027 not supported between instances of \u0027str\u0027 and \u0027int\u0027"
          ],
          "ename": "TypeError",
          "evalue": "\u0027\u003c\u0027 not supported between instances of \u0027str\u0027 and \u0027int\u0027",
          "output_type": "error"
        }
      ],
      "source": "\u00273\u0027 \u003c 4",
      "metadata": {
        "pycharm": {
          "metadata": false,
          "name": "#%%\n",
          "is_executing": false
        }
      }
    },
    {
      "cell_type": "code",
      "execution_count": 41,
      "outputs": [
        {
          "data": {
            "text/plain": "True"
          },
          "metadata": {},
          "output_type": "execute_result",
          "execution_count": 41
        }
      ],
      "source": "int(\u00273\u0027) \u003c 4",
      "metadata": {
        "pycharm": {
          "metadata": false,
          "name": "#%%\n",
          "is_executing": false
        }
      }
    },
    {
      "cell_type": "code",
      "execution_count": 44,
      "outputs": [
        {
          "data": {
            "text/plain": "True"
          },
          "metadata": {},
          "output_type": "execute_result",
          "execution_count": 44
        }
      ],
      "source": "# Оператор членства\np \u003d \u0027tralala\u0027\n\u0027la\u0027 in p",
      "metadata": {
        "pycharm": {
          "metadata": false,
          "name": "#%%\n",
          "is_executing": false
        }
      }
    },
    {
      "cell_type": "code",
      "execution_count": 49,
      "outputs": [
        {
          "data": {
            "text/plain": "(True, True)"
          },
          "metadata": {},
          "output_type": "execute_result",
          "execution_count": 49
        }
      ],
      "source": "p \u003d (\u0027frog\u0027, 2, \u0027cat\u0027, -44, False)\n2 in p, \u0027dog\u0027 not in p",
      "metadata": {
        "pycharm": {
          "metadata": false,
          "name": "#%%\n",
          "is_executing": false
        }
      }
    },
    {
      "cell_type": "code",
      "execution_count": 50,
      "outputs": [
        {
          "data": {
            "text/plain": "2"
          },
          "metadata": {},
          "output_type": "execute_result",
          "execution_count": 50
        }
      ],
      "source": "# логические операторы\nfive \u003d 5\ntwo \u003d 2\nzero \u003d 0\nfive and two",
      "metadata": {
        "pycharm": {
          "metadata": false,
          "name": "#%%\n",
          "is_executing": false
        }
      }
    },
    {
      "cell_type": "code",
      "execution_count": 51,
      "outputs": [
        {
          "data": {
            "text/plain": "5"
          },
          "metadata": {},
          "output_type": "execute_result",
          "execution_count": 51
        }
      ],
      "source": "two and five",
      "metadata": {
        "pycharm": {
          "metadata": false,
          "name": "#%%\n",
          "is_executing": false
        }
      }
    },
    {
      "cell_type": "code",
      "execution_count": 52,
      "outputs": [
        {
          "data": {
            "text/plain": "0"
          },
          "metadata": {},
          "output_type": "execute_result",
          "execution_count": 52
        }
      ],
      "source": "five and zero",
      "metadata": {
        "pycharm": {
          "metadata": false,
          "name": "#%%\n",
          "is_executing": false
        }
      }
    },
    {
      "cell_type": "code",
      "execution_count": 53,
      "outputs": [
        {
          "data": {
            "text/plain": "5"
          },
          "metadata": {},
          "output_type": "execute_result",
          "execution_count": 53
        }
      ],
      "source": "nougth \u003d 0\nfive or two",
      "metadata": {
        "pycharm": {
          "metadata": false,
          "name": "#%%\n",
          "is_executing": false
        }
      }
    },
    {
      "cell_type": "code",
      "execution_count": 54,
      "outputs": [
        {
          "data": {
            "text/plain": "2"
          },
          "metadata": {},
          "output_type": "execute_result",
          "execution_count": 54
        }
      ],
      "source": "two or five",
      "metadata": {
        "pycharm": {
          "metadata": false,
          "name": "#%%\n",
          "is_executing": false
        }
      }
    },
    {
      "cell_type": "code",
      "execution_count": 55,
      "outputs": [
        {
          "data": {
            "text/plain": "5"
          },
          "metadata": {},
          "output_type": "execute_result",
          "execution_count": 55
        }
      ],
      "source": "zero or five",
      "metadata": {
        "pycharm": {
          "metadata": false,
          "name": "#%%\n",
          "is_executing": false
        }
      }
    },
    {
      "cell_type": "code",
      "execution_count": 56,
      "outputs": [
        {
          "data": {
            "text/plain": "0"
          },
          "metadata": {},
          "output_type": "execute_result",
          "execution_count": 56
        }
      ],
      "source": "zero or nougth",
      "metadata": {
        "pycharm": {
          "metadata": false,
          "name": "#%%\n",
          "is_executing": false
        }
      }
    },
    {
      "cell_type": "code",
      "execution_count": 57,
      "outputs": [
        {
          "data": {
            "text/plain": "True"
          },
          "metadata": {},
          "output_type": "execute_result",
          "execution_count": 57
        }
      ],
      "source": "not(zero or nougth)",
      "metadata": {
        "pycharm": {
          "metadata": false,
          "name": "#%%\n",
          "is_executing": false
        }
      }
    },
    {
      "cell_type": "code",
      "execution_count": 58,
      "outputs": [
        {
          "data": {
            "text/plain": "False"
          },
          "metadata": {},
          "output_type": "execute_result",
          "execution_count": 58
        }
      ],
      "source": "not(zero or five)",
      "metadata": {
        "pycharm": {
          "metadata": false,
          "name": "#%%\n",
          "is_executing": false
        }
      }
    },
    {
      "cell_type": "code",
      "execution_count": 59,
      "outputs": [
        {
          "name": "stdout",
          "text": [
            "Denmark\nFinland\nNorway\nSweden\n"
          ],
          "output_type": "stream"
        }
      ],
      "source": "for country in [\u0027Denmark\u0027, \"Finland\", \u0027Norway\u0027, \u0027Sweden\u0027]:\n    print(country)",
      "metadata": {
        "pycharm": {
          "metadata": false,
          "name": "#%%\n",
          "is_executing": false
        }
      }
    },
    {
      "cell_type": "code",
      "execution_count": 60,
      "outputs": [
        {
          "name": "stdout",
          "text": [
            "T\nr\no\nl\no\nl\no\n"
          ],
          "output_type": "stream"
        }
      ],
      "source": "for s in \u0027Trololo\u0027:\n    print(s)",
      "metadata": {
        "pycharm": {
          "metadata": false,
          "name": "#%%\n",
          "is_executing": false
        }
      }
    },
    {
      "cell_type": "code",
      "execution_count": 61,
      "outputs": [
        {
          "name": "stdout",
          "text": [
            "A is a lower\nB is a consonant\nC is a consonant\nD is a consonant\nE is a lower\nF is a consonant\nG is a consonant\nH is a consonant\nI is a lower\nJ is a consonant\nK is a consonant\nL is a consonant\nM is a consonant\nN is a consonant\nO is a lower\nP is a consonant\nQ is a consonant\nR is a consonant\nS is a consonant\nT is a consonant\nU is a lower\nV is a consonant\nW is a consonant\nX is a consonant\nY is a consonant\nZ is a consonant\n"
          ],
          "output_type": "stream"
        }
      ],
      "source": "for letter in \u0027ABCDEFGHIJKLMNOPQRSTUVWXYZ\u0027:\n    if letter in \u0027AEIOU\u0027:\n        print(letter, \u0027is a lower\u0027)\n    else:\n        print(letter, \u0027is a consonant\u0027)\n",
      "metadata": {
        "pycharm": {
          "metadata": false,
          "name": "#%%\n",
          "is_executing": false
        }
      }
    },
    {
      "cell_type": "code",
      "execution_count": 65,
      "outputs": [
        {
          "name": "stdout",
          "text": [
            "invalid literal for int() with base 10: \u0027ddd\u0027\n"
          ],
          "output_type": "stream"
        }
      ],
      "source": "s \u003d input(\u0027enter an integer: \u0027)\ntry:\n    i \u003d int(s)\n    print(\u0027valid integer entered: \u0027, i)\nexcept ValueError as err:\n    print(err)",
      "metadata": {
        "pycharm": {
          "metadata": false,
          "name": "#%%\n",
          "is_executing": false
        }
      }
    },
    {
      "cell_type": "code",
      "execution_count": 66,
      "outputs": [
        {
          "data": {
            "text/plain": "4.0"
          },
          "metadata": {},
          "output_type": "execute_result",
          "execution_count": 66
        }
      ],
      "source": "12 /3",
      "metadata": {
        "pycharm": {
          "metadata": false,
          "name": "#%%\n",
          "is_executing": false
        }
      }
    },
    {
      "cell_type": "code",
      "execution_count": 67,
      "outputs": [
        {
          "data": {
            "text/plain": "1.5"
          },
          "metadata": {},
          "output_type": "execute_result",
          "execution_count": 67
        }
      ],
      "source": "3 / 2",
      "metadata": {
        "pycharm": {
          "metadata": false,
          "name": "#%%\n",
          "is_executing": false
        }
      }
    },
    {
      "cell_type": "code",
      "execution_count": 68,
      "outputs": [
        {
          "data": {
            "text/plain": "4"
          },
          "metadata": {},
          "output_type": "execute_result",
          "execution_count": 68
        }
      ],
      "source": "12 // 3",
      "metadata": {
        "pycharm": {
          "metadata": false,
          "name": "#%%\n",
          "is_executing": false
        }
      }
    },
    {
      "cell_type": "code",
      "execution_count": 69,
      "outputs": [
        {
          "data": {
            "text/plain": "1"
          },
          "metadata": {},
          "output_type": "execute_result",
          "execution_count": 69
        }
      ],
      "source": "3 // 2",
      "metadata": {
        "pycharm": {
          "metadata": false,
          "name": "#%%\n",
          "is_executing": false
        }
      }
    },
    {
      "cell_type": "code",
      "execution_count": 70,
      "outputs": [
        {
          "data": {
            "text/plain": "-1.3333333333333333"
          },
          "metadata": {},
          "output_type": "execute_result",
          "execution_count": 70
        }
      ],
      "source": "-4 / 3",
      "metadata": {
        "pycharm": {
          "metadata": false,
          "name": "#%%\n",
          "is_executing": false
        }
      }
    },
    {
      "cell_type": "code",
      "execution_count": 71,
      "outputs": [
        {
          "data": {
            "text/plain": "-2"
          },
          "metadata": {},
          "output_type": "execute_result",
          "execution_count": 71
        }
      ],
      "source": "-4 // 3",
      "metadata": {
        "pycharm": {
          "metadata": false,
          "name": "#%%\n",
          "is_executing": false
        }
      }
    },
    {
      "cell_type": "code",
      "execution_count": 75,
      "outputs": [
        {
          "data": {
            "text/plain": "\u0027AlexPult\u0027"
          },
          "metadata": {},
          "output_type": "execute_result",
          "execution_count": 75
        }
      ],
      "source": "name \u003d \u0027Alex\u0027\nname + \u0027Pult\u0027",
      "metadata": {
        "pycharm": {
          "metadata": false,
          "name": "#%%\n",
          "is_executing": false
        }
      }
    },
    {
      "cell_type": "code",
      "execution_count": 76,
      "outputs": [
        {
          "data": {
            "text/plain": "\u0027AlexPult\u0027"
          },
          "metadata": {},
          "output_type": "execute_result",
          "execution_count": 76
        }
      ],
      "source": "name +\u003d \u0027Pult\u0027\nname",
      "metadata": {
        "pycharm": {
          "metadata": false,
          "name": "#%%\n",
          "is_executing": false
        }
      }
    },
    {
      "cell_type": "code",
      "execution_count": 80,
      "outputs": [
        {
          "data": {
            "text/plain": "4547949512"
          },
          "metadata": {},
          "output_type": "execute_result",
          "execution_count": 80
        }
      ],
      "source": "seeds \u003d [\u0027sesame\u0027, \u0027sunflower\u0027]\nid(seeds)",
      "metadata": {
        "pycharm": {
          "metadata": false,
          "name": "#%%\n",
          "is_executing": false
        }
      }
    },
    {
      "cell_type": "code",
      "execution_count": 81,
      "outputs": [
        {
          "data": {
            "text/plain": "4547949512"
          },
          "metadata": {},
          "output_type": "execute_result",
          "execution_count": 81
        }
      ],
      "source": "seeds +\u003d [\u0027pumpkin\u0027]\nid(seeds)",
      "metadata": {
        "pycharm": {
          "metadata": false,
          "name": "#%%\n",
          "is_executing": false
        }
      }
    },
    {
      "cell_type": "code",
      "execution_count": 82,
      "outputs": [
        {
          "data": {
            "text/plain": "[\u0027sesame\u0027, \u0027sunflower\u0027, \u0027pumpkin\u0027]"
          },
          "metadata": {},
          "output_type": "execute_result",
          "execution_count": 82
        }
      ],
      "source": "seeds",
      "metadata": {
        "pycharm": {
          "metadata": false,
          "name": "#%%\n",
          "is_executing": false
        }
      }
    },
    {
      "cell_type": "code",
      "execution_count": 83,
      "outputs": [
        {
          "traceback": [
            "\u001b[0;31m---------------------------------------------------------------------------\u001b[0m",
            "\u001b[0;31mTypeError\u001b[0m                                 Traceback (most recent call last)",
            "\u001b[0;32m\u003cipython-input-83-5bd8050e7594\u003e\u001b[0m in \u001b[0;36m\u003cmodule\u003e\u001b[0;34m\u001b[0m\n\u001b[0;32m----\u003e 1\u001b[0;31m \u001b[0mseeds\u001b[0m \u001b[0;34m+\u003d\u001b[0m \u001b[0;36m5\u001b[0m\u001b[0;34m\u001b[0m\u001b[0;34m\u001b[0m\u001b[0m\n\u001b[0m",
            "\u001b[0;31mTypeError\u001b[0m: \u0027int\u0027 object is not iterable"
          ],
          "ename": "TypeError",
          "evalue": "\u0027int\u0027 object is not iterable",
          "output_type": "error"
        }
      ],
      "source": "seeds +\u003d 5",
      "metadata": {
        "pycharm": {
          "metadata": false,
          "name": "#%%\n",
          "is_executing": false
        }
      }
    },
    {
      "cell_type": "code",
      "execution_count": 84,
      "outputs": [],
      "source": "seeds +\u003d [5]",
      "metadata": {
        "pycharm": {
          "metadata": false,
          "name": "#%%\n",
          "is_executing": false
        }
      }
    },
    {
      "cell_type": "code",
      "execution_count": 85,
      "outputs": [
        {
          "data": {
            "text/plain": "[\u0027sesame\u0027, \u0027sunflower\u0027, \u0027pumpkin\u0027, 5]"
          },
          "metadata": {},
          "output_type": "execute_result",
          "execution_count": 85
        }
      ],
      "source": "seeds",
      "metadata": {
        "pycharm": {
          "metadata": false,
          "name": "#%%\n",
          "is_executing": false
        }
      }
    },
    {
      "cell_type": "code",
      "execution_count": 86,
      "outputs": [
        {
          "data": {
            "text/plain": "[\u0027sesame\u0027, \u0027sunflower\u0027, \u0027pumpkin\u0027, 5, 9, 1, 5, \u0027poppy\u0027]"
          },
          "metadata": {},
          "output_type": "execute_result",
          "execution_count": 86
        }
      ],
      "source": "seeds +\u003d [9, 1, 5, \u0027poppy\u0027]\nseeds",
      "metadata": {
        "pycharm": {
          "metadata": false,
          "name": "#%%\n",
          "is_executing": false
        }
      }
    },
    {
      "cell_type": "code",
      "execution_count": 87,
      "outputs": [],
      "source": "seeds +\u003d \u0027durian\u0027",
      "metadata": {
        "pycharm": {
          "metadata": false,
          "name": "#%%\n",
          "is_executing": false
        }
      }
    },
    {
      "cell_type": "code",
      "execution_count": 88,
      "outputs": [
        {
          "data": {
            "text/plain": "[\u0027sesame\u0027,\n \u0027sunflower\u0027,\n \u0027pumpkin\u0027,\n 5,\n 9,\n 1,\n 5,\n \u0027poppy\u0027,\n \u0027d\u0027,\n \u0027u\u0027,\n \u0027r\u0027,\n \u0027i\u0027,\n \u0027a\u0027,\n \u0027n\u0027]"
          },
          "metadata": {},
          "output_type": "execute_result",
          "execution_count": 88
        }
      ],
      "source": "seeds",
      "metadata": {
        "pycharm": {
          "metadata": false,
          "name": "#%%\n",
          "is_executing": false
        }
      }
    },
    {
      "cell_type": "code",
      "execution_count": 93,
      "outputs": [
        {
          "name": "stdout",
          "text": [
            "Type integers, each follow by Enter; or just Enter to finish\n",
            "invalid literal for int() with base 10: \u0027ddddd\u0027\n",
            "count \u003d 9, total \u003d 45, mean \u003d 5.0\n"
          ],
          "output_type": "stream"
        }
      ],
      "source": "# IO Ввод-вывод\nprint(\u0027Type integers, each follow by Enter; or just Enter to finish\u0027)\n\ntotal \u003d 0\ncount \u003d 0\n\nwhile True:\n    line \u003d input(\u0027integer: \u0027)\n    if line:\n        try:\n            number \u003d int(line)\n        except ValueError as err:\n            print(err)\n            continue\n        total +\u003d number\n        count +\u003d 1\n    else:\n        break\nif count:\n    print(f\u0027count \u003d {count}, total \u003d {total}, mean \u003d {total/count}\u0027)\n",
      "metadata": {
        "pycharm": {
          "metadata": false,
          "name": "#%%\n",
          "is_executing": false
        }
      }
    },
    {
      "cell_type": "code",
      "execution_count": 96,
      "outputs": [
        {
          "data": {
            "text/plain": "22"
          },
          "metadata": {},
          "output_type": "execute_result",
          "execution_count": 96
        }
      ],
      "source": "def get_int(msg):\n    while True:\n        try:\n            i \u003d int(input(msg))\n            return i\n        except ValueError as err:\n            print(err)\n\nage \u003d get_int(\u0027enter your age: \u0027)\nage",
      "metadata": {
        "pycharm": {
          "metadata": false,
          "name": "#%%\n",
          "is_executing": false
        }
      }
    },
    {
      "cell_type": "code",
      "execution_count": 97,
      "outputs": [
        {
          "name": "stdout",
          "text": [
            "[\u0027/Users/av/projects/python/programming-with-python3/.venv/lib/python3.7/site-packages/ipykernel_launcher.py\u0027, \u0027-f\u0027, \u0027/Users/av/Library/Jupyter/runtime/kernel-e9740749-e7f1-42dc-b652-f100c2c0f9e0.json\u0027]\n"
          ],
          "output_type": "stream"
        }
      ],
      "source": "import sys\nprint(sys.argv)",
      "metadata": {
        "pycharm": {
          "metadata": false,
          "name": "#%%\n",
          "is_executing": false
        }
      }
    },
    {
      "cell_type": "code",
      "execution_count": 104,
      "outputs": [
        {
          "data": {
            "text/plain": "(2, \u0027durian\u0027)"
          },
          "metadata": {},
          "output_type": "execute_result",
          "execution_count": 104
        }
      ],
      "source": "import random\nx \u003d random.randint(1, 6)\ny \u003d random.choice([\u0027apple\u0027, \u0027banana\u0027, \u0027cherry\u0027, \u0027durian\u0027])\nx, y",
      "metadata": {
        "pycharm": {
          "metadata": false,
          "name": "#%%\n",
          "is_executing": false
        }
      }
    },
    {
      "cell_type": "code",
      "execution_count": null,
      "outputs": [],
      "source": "\n",
      "metadata": {
        "pycharm": {
          "metadata": false,
          "name": "#%%\n"
        }
      }
    }
  ],
  "metadata": {
    "language_info": {
      "codemirror_mode": {
        "name": "ipython",
        "version": 2
      },
      "file_extension": ".py",
      "mimetype": "text/x-python",
      "name": "python",
      "nbconvert_exporter": "python",
      "pygments_lexer": "ipython2",
      "version": "2.7.6"
    },
    "kernelspec": {
      "name": "python3",
      "language": "python",
      "display_name": "Python 3"
    },
    "stem_cell": {
      "cell_type": "raw",
      "source": "",
      "metadata": {
        "pycharm": {
          "metadata": false
        }
      }
    }
  },
  "nbformat": 4,
  "nbformat_minor": 0
}