{
  "cells": [
    {
      "cell_type": "markdown",
      "source": "управляющие структуры и функции",
      "metadata": {
        "pycharm": {
          "metadata": false
        }
      }
    },
    {
      "cell_type": "code",
      "execution_count": 2,
      "outputs": [
        {
          "data": {
            "text/plain": "10"
          },
          "metadata": {},
          "output_type": "execute_result",
          "execution_count": 2
        }
      ],
      "source": "import sys\n\noffset \u003d 20\nif not sys.platform.startswith(\u0027win\u0027):\n    offset \u003d 10\noffset",
      "metadata": {
        "pycharm": {
          "metadata": false,
          "name": "#%%\n",
          "is_executing": false
        }
      }
    },
    {
      "cell_type": "code",
      "execution_count": 3,
      "outputs": [
        {
          "data": {
            "text/plain": "10"
          },
          "metadata": {},
          "output_type": "execute_result",
          "execution_count": 3
        }
      ],
      "source": "offset \u003d 20 if sys.platform.startswith(\u0027win\u0027) else 10\noffset",
      "metadata": {
        "pycharm": {
          "metadata": false,
          "name": "#%%\n",
          "is_executing": false
        }
      }
    },
    {
      "cell_type": "code",
      "execution_count": 5,
      "outputs": [
        {
          "data": {
            "text/plain": "0"
          },
          "metadata": {},
          "output_type": "execute_result",
          "execution_count": 5
        }
      ],
      "source": "margin \u003d False\nwidth \u003d 100 + 10 if margin else 0\nwidth  # Ошибка",
      "metadata": {
        "pycharm": {
          "metadata": false,
          "name": "#%%\n",
          "is_executing": false
        }
      }
    },
    {
      "cell_type": "code",
      "execution_count": 6,
      "outputs": [
        {
          "data": {
            "text/plain": "110"
          },
          "metadata": {},
          "output_type": "execute_result",
          "execution_count": 6
        }
      ],
      "source": "margin \u003d True\nwidth \u003d 100 + 10 if margin else 0\nwidth  # Хотя при условии True работает как надо",
      "metadata": {
        "pycharm": {
          "metadata": false,
          "name": "#%%\n",
          "is_executing": false
        }
      }
    },
    {
      "cell_type": "code",
      "execution_count": 7,
      "outputs": [
        {
          "data": {
            "text/plain": "100"
          },
          "metadata": {},
          "output_type": "execute_result",
          "execution_count": 7
        }
      ],
      "source": "margin \u003d False\nwidth \u003d 100 + (10 if margin else 0)\nwidth  # Верное решение",
      "metadata": {
        "pycharm": {
          "metadata": false,
          "name": "#%%\n",
          "is_executing": false
        }
      }
    },
    {
      "cell_type": "markdown",
      "source": "Исключения\n",
      "metadata": {
        "pycharm": {
          "metadata": false
        }
      }
    },
    {
      "cell_type": "code",
      "execution_count": 19,
      "outputs": [
        {
          "name": "stdout",
          "text": [
            "Invalid key used\n"
          ],
          "output_type": "stream"
        }
      ],
      "source": "d \u003d [1,2,3]\ntry:\n    x \u003d d[5]\nexcept IndexError:\n    print(\u0027Invalid key used\u0027)\nexcept LookupError:\n    print(\u0027Lookup Error occurred\u0027)\n",
      "metadata": {
        "pycharm": {
          "metadata": false,
          "name": "#%%\n",
          "is_executing": false
        }
      }
    },
    {
      "cell_type": "markdown",
      "source": "Функции\n",
      "metadata": {
        "pycharm": {
          "metadata": false
        }
      }
    },
    {
      "cell_type": "code",
      "execution_count": 21,
      "outputs": [
        {
          "data": {
            "text/plain": "6.0"
          },
          "metadata": {},
          "output_type": "execute_result",
          "execution_count": 21
        }
      ],
      "source": "import math\ndef heron(a, b, c):\n    s \u003d (a + b + c) / 2\n    return math.sqrt(s * (s - a) * (s - b) * (s - c))\nheron(3, 4, 5)",
      "metadata": {
        "pycharm": {
          "metadata": false,
          "name": "#%%\n",
          "is_executing": false
        }
      }
    },
    {
      "cell_type": "code",
      "execution_count": 22,
      "outputs": [
        {
          "data": {
            "text/plain": "14"
          },
          "metadata": {},
          "output_type": "execute_result",
          "execution_count": 22
        }
      ],
      "source": "import string\ndef letter_count(text, letters\u003dstring.ascii_letters):\n    letters \u003d frozenset(letters)\n    count \u003d 0\n    for char in text:\n        if char in letters:\n            count +\u003d 1\n    return count\n\nletter_count(\u0027Maggie and Hopey\u0027)",
      "metadata": {
        "pycharm": {
          "metadata": false,
          "name": "#%%\n",
          "is_executing": false
        }
      }
    },
    {
      "cell_type": "code",
      "execution_count": 23,
      "outputs": [
        {
          "data": {
            "text/plain": "6"
          },
          "metadata": {},
          "output_type": "execute_result",
          "execution_count": 23
        }
      ],
      "source": "letter_count(\u0027Maggie and Hopey\u0027, \u0027aeiouAEIOU\u0027)",
      "metadata": {
        "pycharm": {
          "metadata": false,
          "name": "#%%\n",
          "is_executing": false
        }
      }
    },
    {
      "cell_type": "code",
      "execution_count": 24,
      "outputs": [
        {
          "data": {
            "text/plain": "6"
          },
          "metadata": {},
          "output_type": "execute_result",
          "execution_count": 24
        }
      ],
      "source": "letter_count(\u0027Maggie and Hopey\u0027, letters\u003d\u0027aeiouAEIOU\u0027)\n",
      "metadata": {
        "pycharm": {
          "metadata": false,
          "name": "#%%\n",
          "is_executing": false
        }
      }
    },
    {
      "cell_type": "code",
      "execution_count": 25,
      "outputs": [
        {
          "data": {
            "text/plain": "\u0027The Road\u0027"
          },
          "metadata": {},
          "output_type": "execute_result",
          "execution_count": 25
        }
      ],
      "source": "def shorten(text, length\u003d25, indicator\u003d\u0027...\u0027):\n    if len(text) \u003e length:\n        text \u003d text[:length - len(indicator)] + indicator\n    return text\n\nshorten(\u0027The Road\u0027)",
      "metadata": {
        "pycharm": {
          "metadata": false,
          "name": "#%%\n",
          "is_executing": false
        }
      }
    },
    {
      "cell_type": "code",
      "execution_count": 26,
      "outputs": [
        {
          "data": {
            "text/plain": "\u0027The ...\u0027"
          },
          "metadata": {},
          "output_type": "execute_result",
          "execution_count": 26
        }
      ],
      "source": "shorten(length\u003d7, text\u003d\u0027The Road\u0027)",
      "metadata": {
        "pycharm": {
          "metadata": false,
          "name": "#%%\n",
          "is_executing": false
        }
      }
    },
    {
      "cell_type": "code",
      "execution_count": 27,
      "outputs": [
        {
          "data": {
            "text/plain": "\u0027The Ro\u0026\u0027"
          },
          "metadata": {},
          "output_type": "execute_result",
          "execution_count": 27
        }
      ],
      "source": "shorten(\u0027The Road\u0027, indicator\u003d\u0027\u0026\u0027, length\u003d7)",
      "metadata": {
        "pycharm": {
          "metadata": false,
          "name": "#%%\n",
          "is_executing": false
        }
      }
    },
    {
      "cell_type": "code",
      "execution_count": 30,
      "outputs": [
        {
          "data": {
            "text/plain": "\u0027The Ro\u0026\u0027"
          },
          "metadata": {},
          "output_type": "execute_result",
          "execution_count": 30
        }
      ],
      "source": "shorten(\u0027The Road\u0027, 7, \u0027\u0026\u0027)",
      "metadata": {
        "pycharm": {
          "metadata": false,
          "name": "#%%\n",
          "is_executing": false
        }
      }
    },
    {
      "cell_type": "code",
      "execution_count": 37,
      "outputs": [
        {
          "data": {
            "text/plain": "[2]"
          },
          "metadata": {},
          "output_type": "execute_result",
          "execution_count": 37
        }
      ],
      "source": "def append_if_even(x, lst\u003dNone):\n    lst \u003d [] if lst is None else lst\n    if x % 2 \u003d\u003d 0:\n        lst.append(x)\n    return lst\nappend_if_even(2)",
      "metadata": {
        "pycharm": {
          "metadata": false,
          "name": "#%%\n",
          "is_executing": false
        }
      }
    },
    {
      "cell_type": "code",
      "execution_count": 38,
      "outputs": [
        {
          "data": {
            "text/plain": "[4]"
          },
          "metadata": {},
          "output_type": "execute_result",
          "execution_count": 38
        }
      ],
      "source": "append_if_even(4)",
      "metadata": {
        "pycharm": {
          "metadata": false,
          "name": "#%%\n",
          "is_executing": false
        }
      }
    },
    {
      "cell_type": "code",
      "execution_count": 42,
      "outputs": [
        {
          "data": {
            "text/plain": "\u0027The Ro\u0026\u0027"
          },
          "metadata": {},
          "output_type": "execute_result",
          "execution_count": 42
        }
      ],
      "source": "def shorten(text: str, length: int\u003d25, indicator: str\u003d\u0027...\u0027) -\u003e str:\n    \"\"\"Возвращает text или усеченную его копию с добавлением\n       indicator в конце\n    \n    :param text: Любой текст\n    :param length: максимальная длина строки string (включая indicator)\n    :param indicator: строка, добавляемая в конец результата, что бы показать,\n                      что текст аргумента text был усечён\n    :return: \n    \"\"\"\n    if len(text) \u003e length:\n        text \u003d text[:length - len(indicator)] + indicator\n    return text\n\nshorten(\u0027The Road\u0027, 7, \u0027\u0026\u0027)",
      "metadata": {
        "pycharm": {
          "metadata": false,
          "name": "#%%\n",
          "is_executing": false
        }
      }
    },
    {
      "cell_type": "code",
      "execution_count": 44,
      "outputs": [
        {
          "name": "stdout",
          "text": [
            "Help on function shorten in module __main__:\n\nshorten(text: str, length: int \u003d 25, indicator: str \u003d \u0027...\u0027) -\u003e str\n    Возвращает text или усеченную его копию с добавлением\n       indicator в конце\n    \n    :param text: Любой текст\n    :param length: максимальная длина строки string (включая indicator)\n    :param indicator: строка, добавляемая в конец результата, что бы показать,\n                      что текст аргумента text был усечён\n    :return:\n\n"
          ],
          "output_type": "stream"
        }
      ],
      "source": "help(shorten)",
      "metadata": {
        "pycharm": {
          "metadata": false,
          "name": "#%%\n",
          "is_executing": false
        }
      }
    },
    {
      "cell_type": "code",
      "execution_count": 45,
      "outputs": [],
      "source": "\ndef products(*args):\n    result \u003d 1\n    for arg in args:\n        result *\u003d arg\n    return result",
      "metadata": {
        "pycharm": {
          "metadata": false,
          "name": "#%%\n",
          "is_executing": false
        }
      }
    },
    {
      "cell_type": "code",
      "execution_count": 46,
      "outputs": [
        {
          "data": {
            "text/plain": "24"
          },
          "metadata": {},
          "output_type": "execute_result",
          "execution_count": 46
        }
      ],
      "source": "products(1, 2, 3, 4)\n",
      "metadata": {
        "pycharm": {
          "metadata": false,
          "name": "#%%\n",
          "is_executing": false
        }
      }
    },
    {
      "cell_type": "code",
      "execution_count": 47,
      "outputs": [
        {
          "data": {
            "text/plain": "120"
          },
          "metadata": {},
          "output_type": "execute_result",
          "execution_count": 47
        }
      ],
      "source": "products(5, 3, 8)",
      "metadata": {
        "pycharm": {
          "metadata": false,
          "name": "#%%\n",
          "is_executing": false
        }
      }
    },
    {
      "cell_type": "code",
      "execution_count": 48,
      "outputs": [
        {
          "data": {
            "text/plain": "11"
          },
          "metadata": {},
          "output_type": "execute_result",
          "execution_count": 48
        }
      ],
      "source": "products(11)",
      "metadata": {
        "pycharm": {
          "metadata": false,
          "name": "#%%\n",
          "is_executing": false
        }
      }
    },
    {
      "cell_type": "code",
      "execution_count": 49,
      "outputs": [
        {
          "data": {
            "text/plain": "9"
          },
          "metadata": {},
          "output_type": "execute_result",
          "execution_count": 49
        }
      ],
      "source": "def sum_of_powers(*args: int, power: int\u003d1):\n    result \u003d 0\n    for arg in args:\n        result +\u003d arg ** power\n    return result\nsum_of_powers(1, 3, 5)",
      "metadata": {
        "pycharm": {
          "metadata": false,
          "name": "#%%\n",
          "is_executing": false
        }
      }
    },
    {
      "cell_type": "code",
      "execution_count": 50,
      "outputs": [
        {
          "data": {
            "text/plain": "35"
          },
          "metadata": {},
          "output_type": "execute_result",
          "execution_count": 50
        }
      ],
      "source": "sum_of_powers(1, 3, 5, power\u003d2)\n",
      "metadata": {
        "pycharm": {
          "metadata": false,
          "name": "#%%\n",
          "is_executing": false
        }
      }
    },
    {
      "cell_type": "code",
      "execution_count": 61,
      "outputs": [],
      "source": "def heron2(a: int, b: int, c: int, *, units: str\u003d\u0027meters\u0027) -\u003e str:\n    s \u003d (a + b + c) / 2\n    area \u003d math.sqrt(s * (s - a) * (s - b) * (s - c))\n    return \u0027{0} {1}\u0027.format(area, units)",
      "metadata": {
        "pycharm": {
          "metadata": false,
          "name": "#%%\n",
          "is_executing": false
        }
      }
    },
    {
      "cell_type": "code",
      "execution_count": 68,
      "outputs": [
        {
          "data": {
            "text/plain": "\u002784.0 meters\u0027"
          },
          "metadata": {},
          "output_type": "execute_result",
          "execution_count": 68
        }
      ],
      "source": "heron2(25, 24, 7)\n",
      "metadata": {
        "pycharm": {
          "metadata": false,
          "name": "#%%\n",
          "is_executing": false
        }
      }
    },
    {
      "cell_type": "code",
      "execution_count": 69,
      "outputs": [
        {
          "data": {
            "text/plain": "\u0027180.0 inches\u0027"
          },
          "metadata": {},
          "output_type": "execute_result",
          "execution_count": 69
        }
      ],
      "source": "heron2(41, 9, 40, units\u003d\u0027inches\u0027)",
      "metadata": {
        "pycharm": {
          "metadata": false,
          "name": "#%%\n",
          "is_executing": false
        }
      }
    },
    {
      "cell_type": "code",
      "execution_count": 71,
      "outputs": [
        {
          "traceback": [
            "\u001b[0;31m---------------------------------------------------------------------------\u001b[0m",
            "\u001b[0;31mTypeError\u001b[0m                                 Traceback (most recent call last)",
            "\u001b[0;32m\u003cipython-input-71-f81983f49720\u003e\u001b[0m in \u001b[0;36m\u003cmodule\u003e\u001b[0;34m\u001b[0m\n\u001b[0;32m----\u003e 1\u001b[0;31m \u001b[0mheron2\u001b[0m\u001b[0;34m(\u001b[0m\u001b[0;36m41\u001b[0m\u001b[0;34m,\u001b[0m \u001b[0;36m9\u001b[0m\u001b[0;34m,\u001b[0m \u001b[0;36m40\u001b[0m\u001b[0;34m,\u001b[0m \u001b[0;34m\u0027inches\u0027\u001b[0m\u001b[0;34m)\u001b[0m\u001b[0;34m\u001b[0m\u001b[0;34m\u001b[0m\u001b[0m\n\u001b[0m",
            "\u001b[0;31mTypeError\u001b[0m: heron2() takes 3 positional arguments but 4 were given"
          ],
          "ename": "TypeError",
          "evalue": "heron2() takes 3 positional arguments but 4 were given",
          "output_type": "error"
        }
      ],
      "source": "heron2(41, 9, 40, \u0027inches\u0027)",
      "metadata": {
        "pycharm": {
          "metadata": false,
          "name": "#%%\n",
          "is_executing": false
        }
      }
    },
    {
      "cell_type": "markdown",
      "source": "Lambda функции",
      "metadata": {
        "pycharm": {
          "metadata": false
        }
      }
    },
    {
      "cell_type": "code",
      "execution_count": 72,
      "outputs": [],
      "source": "s \u003d lambda x: \u0027\u0027 if x \u003d\u003d 1 else \u0027s\u0027",
      "metadata": {
        "pycharm": {
          "metadata": false,
          "name": "#%%\n",
          "is_executing": false
        }
      }
    },
    {
      "cell_type": "code",
      "execution_count": 73,
      "outputs": [
        {
          "data": {
            "text/plain": "function"
          },
          "metadata": {},
          "output_type": "execute_result",
          "execution_count": 73
        }
      ],
      "source": "type(s)",
      "metadata": {
        "pycharm": {
          "metadata": false,
          "name": "#%%\n",
          "is_executing": false
        }
      }
    },
    {
      "cell_type": "code",
      "execution_count": 75,
      "outputs": [
        {
          "data": {
            "text/plain": "\u0027\u0027"
          },
          "metadata": {},
          "output_type": "execute_result",
          "execution_count": 75
        }
      ],
      "source": "s(1)",
      "metadata": {
        "pycharm": {
          "metadata": false,
          "name": "#%%\n",
          "is_executing": false
        }
      }
    },
    {
      "cell_type": "code",
      "execution_count": 76,
      "outputs": [
        {
          "name": "stdout",
          "text": [
            "3 files\n"
          ],
          "output_type": "stream"
        }
      ],
      "source": "count \u003d 3\nprint(\u0027{0} file{1}\u0027.format(count, s(count)))",
      "metadata": {
        "pycharm": {
          "metadata": false,
          "name": "#%%\n",
          "is_executing": false
        }
      }
    },
    {
      "cell_type": "code",
      "execution_count": 81,
      "outputs": [
        {
          "data": {
            "text/plain": "[(1, 3, \u0027Li\u0027), (1, 11, \u0027Na\u0027), (2, 4, \u0027Be\u0027), (2, 12, \u0027Mg\u0027)]"
          },
          "metadata": {},
          "output_type": "execute_result",
          "execution_count": 81
        }
      ],
      "source": "elements \u003d [(2, 12, \u0027Mg\u0027), (1, 11, \u0027Na\u0027), (1, 3, \u0027Li\u0027), (2, 4, \u0027Be\u0027)]\nelements.sort()\nelements",
      "metadata": {
        "pycharm": {
          "metadata": false,
          "name": "#%%\n",
          "is_executing": false
        }
      }
    },
    {
      "cell_type": "code",
      "execution_count": 82,
      "outputs": [
        {
          "data": {
            "text/plain": "[(1, 3, \u0027Li\u0027), (2, 4, \u0027Be\u0027), (1, 11, \u0027Na\u0027), (2, 12, \u0027Mg\u0027)]"
          },
          "metadata": {},
          "output_type": "execute_result",
          "execution_count": 82
        }
      ],
      "source": "elements.sort(key\u003dlambda e: (e[1], e[2]))\nelements",
      "metadata": {
        "pycharm": {
          "metadata": false,
          "name": "#%%\n",
          "is_executing": false
        }
      }
    },
    {
      "cell_type": "code",
      "execution_count": 88,
      "outputs": [
        {
          "data": {
            "text/plain": "[(1, 3, \u0027Li\u0027), (2, 4, \u0027Be\u0027), (1, 11, \u0027Na\u0027), (2, 12, \u0027Mg\u0027)]"
          },
          "metadata": {},
          "output_type": "execute_result",
          "execution_count": 88
        }
      ],
      "source": "elements.sort(key\u003dlambda e: e[1:3])\nelements",
      "metadata": {
        "pycharm": {
          "metadata": false,
          "name": "#%%\n",
          "is_executing": false
        }
      }
    },
    {
      "cell_type": "code",
      "execution_count": 89,
      "outputs": [
        {
          "data": {
            "text/plain": "[(2, 4, \u0027Be\u0027), (1, 3, \u0027Li\u0027), (2, 12, \u0027Mg\u0027), (1, 11, \u0027Na\u0027)]"
          },
          "metadata": {},
          "output_type": "execute_result",
          "execution_count": 89
        }
      ],
      "source": "elements.sort(key\u003dlambda e: (e[2].lower(), e[1]))\nelements",
      "metadata": {
        "pycharm": {
          "metadata": false,
          "name": "#%%\n",
          "is_executing": false
        }
      }
    },
    {
      "cell_type": "code",
      "execution_count": 91,
      "outputs": [
        {
          "data": {
            "text/plain": "20.0"
          },
          "metadata": {},
          "output_type": "execute_result",
          "execution_count": 91
        }
      ],
      "source": "area \u003d lambda b, h: 0.5 * b * h\narea(5,8)",
      "metadata": {
        "pycharm": {
          "metadata": false,
          "name": "#%%\n",
          "is_executing": false
        }
      }
    },
    {
      "cell_type": "code",
      "execution_count": 92,
      "outputs": [
        {
          "data": {
            "text/plain": "20.0"
          },
          "metadata": {},
          "output_type": "execute_result",
          "execution_count": 92
        }
      ],
      "source": "def area2(b, h):\n    return 0.5 * b * h\narea2(5, 8)",
      "metadata": {
        "pycharm": {
          "metadata": false,
          "name": "#%%\n",
          "is_executing": false
        }
      }
    },
    {
      "cell_type": "code",
      "execution_count": 94,
      "outputs": [],
      "source": "import collections\nminus_one_dict \u003d collections.defaultdict(lambda: -1)\npoint_zero_dict \u003d collections.defaultdict(lambda: (0, 0))\nmessage_dict \u003d collections.defaultdict(lambda:\u0027No message available\u0027)",
      "metadata": {
        "pycharm": {
          "metadata": false,
          "name": "#%%\n",
          "is_executing": false
        }
      }
    },
    {
      "cell_type": "code",
      "execution_count": 104,
      "outputs": [
        {
          "data": {
            "text/plain": "defaultdict(\u003cfunction __main__.\u003clambda\u003e()\u003e, {\u0027test\u0027: -1})"
          },
          "metadata": {},
          "output_type": "execute_result",
          "execution_count": 104
        }
      ],
      "source": "minus_one_dict[\u0027test\u0027]\nminus_one_dict",
      "metadata": {
        "pycharm": {
          "metadata": false,
          "name": "#%%\n",
          "is_executing": false
        }
      }
    },
    {
      "cell_type": "code",
      "execution_count": 108,
      "outputs": [
        {
          "data": {
            "text/plain": "defaultdict(\u003cfunction __main__.\u003clambda\u003e()\u003e, {1: (0, 0)})"
          },
          "metadata": {},
          "output_type": "execute_result",
          "execution_count": 108
        }
      ],
      "source": "point_zero_dict[1]\npoint_zero_dict",
      "metadata": {
        "pycharm": {
          "metadata": false,
          "name": "#%%\n",
          "is_executing": false
        }
      }
    },
    {
      "cell_type": "code",
      "execution_count": 110,
      "outputs": [
        {
          "data": {
            "text/plain": "defaultdict(\u003cfunction __main__.\u003clambda\u003e()\u003e, {\u0027first\u0027: \u0027No message available\u0027})"
          },
          "metadata": {},
          "output_type": "execute_result",
          "execution_count": 110
        }
      ],
      "source": "message_dict[\u0027first\u0027]\nmessage_dict",
      "metadata": {
        "pycharm": {
          "metadata": false,
          "name": "#%%\n",
          "is_executing": false
        }
      }
    },
    {
      "cell_type": "code",
      "execution_count": 115,
      "outputs": [
        {
          "traceback": [
            "\u001b[0;31m---------------------------------------------------------------------------\u001b[0m",
            "\u001b[0;31mAssertionError\u001b[0m                            Traceback (most recent call last)",
            "\u001b[0;32m\u003cipython-input-115-70c19beaf825\u003e\u001b[0m in \u001b[0;36m\u003cmodule\u003e\u001b[0;34m\u001b[0m\n\u001b[1;32m      6\u001b[0m     \u001b[0;32mreturn\u001b[0m \u001b[0mresult\u001b[0m\u001b[0;34m\u001b[0m\u001b[0;34m\u001b[0m\u001b[0m\n\u001b[1;32m      7\u001b[0m \u001b[0;34m\u001b[0m\u001b[0m\n\u001b[0;32m----\u003e 8\u001b[0;31m \u001b[0mproduct\u001b[0m\u001b[0;34m(\u001b[0m\u001b[0;36m0\u001b[0m\u001b[0;34m,\u001b[0m \u001b[0;36m1\u001b[0m\u001b[0;34m)\u001b[0m\u001b[0;34m\u001b[0m\u001b[0;34m\u001b[0m\u001b[0m\n\u001b[0m",
            "\u001b[0;32m\u003cipython-input-115-70c19beaf825\u003e\u001b[0m in \u001b[0;36mproduct\u001b[0;34m(*args)\u001b[0m\n\u001b[1;32m      1\u001b[0m \u001b[0;32mdef\u001b[0m \u001b[0mproduct\u001b[0m\u001b[0;34m(\u001b[0m\u001b[0;34m*\u001b[0m\u001b[0margs\u001b[0m\u001b[0;34m)\u001b[0m\u001b[0;34m:\u001b[0m  \u001b[0;31m# пессимистичная\u001b[0m\u001b[0;34m\u001b[0m\u001b[0;34m\u001b[0m\u001b[0m\n\u001b[0;32m----\u003e 2\u001b[0;31m     \u001b[0;32massert\u001b[0m \u001b[0mall\u001b[0m\u001b[0;34m(\u001b[0m\u001b[0margs\u001b[0m\u001b[0;34m)\u001b[0m\u001b[0;34m,\u001b[0m \u001b[0;34m\u00270 arguments\u0027\u001b[0m\u001b[0;34m\u001b[0m\u001b[0;34m\u001b[0m\u001b[0m\n\u001b[0m\u001b[1;32m      3\u001b[0m     \u001b[0mresult\u001b[0m \u001b[0;34m\u003d\u001b[0m \u001b[0;36m1\u001b[0m\u001b[0;34m\u001b[0m\u001b[0;34m\u001b[0m\u001b[0m\n\u001b[1;32m      4\u001b[0m     \u001b[0;32mfor\u001b[0m \u001b[0marg\u001b[0m \u001b[0;32min\u001b[0m \u001b[0margs\u001b[0m\u001b[0;34m:\u001b[0m\u001b[0;34m\u001b[0m\u001b[0;34m\u001b[0m\u001b[0m\n\u001b[1;32m      5\u001b[0m         \u001b[0mresult\u001b[0m \u001b[0;34m*\u003d\u001b[0m \u001b[0marg\u001b[0m\u001b[0;34m\u001b[0m\u001b[0;34m\u001b[0m\u001b[0m\n",
            "\u001b[0;31mAssertionError\u001b[0m: 0 arguments"
          ],
          "ename": "AssertionError",
          "evalue": "0 arguments",
          "output_type": "error"
        }
      ],
      "source": "def product(*args):  # пессимистичная\n    assert all(args), \u00270 arguments\u0027\n    result \u003d 1\n    for arg in args:\n        result *\u003d arg\n    return result\n\nproduct(0, 1)",
      "metadata": {
        "pycharm": {
          "metadata": false,
          "name": "#%%\n",
          "is_executing": false
        }
      }
    },
    {
      "cell_type": "code",
      "execution_count": 116,
      "outputs": [
        {
          "traceback": [
            "\u001b[0;31m---------------------------------------------------------------------------\u001b[0m",
            "\u001b[0;31mAssertionError\u001b[0m                            Traceback (most recent call last)",
            "\u001b[0;32m\u003cipython-input-116-a3ba64735546\u003e\u001b[0m in \u001b[0;36m\u003cmodule\u003e\u001b[0;34m\u001b[0m\n\u001b[1;32m      6\u001b[0m     \u001b[0;32mreturn\u001b[0m \u001b[0mresult\u001b[0m\u001b[0;34m\u001b[0m\u001b[0;34m\u001b[0m\u001b[0m\n\u001b[1;32m      7\u001b[0m \u001b[0;34m\u001b[0m\u001b[0m\n\u001b[0;32m----\u003e 8\u001b[0;31m \u001b[0mproduct2\u001b[0m\u001b[0;34m(\u001b[0m\u001b[0;36m0\u001b[0m\u001b[0;34m,\u001b[0m \u001b[0;36m1\u001b[0m\u001b[0;34m)\u001b[0m\u001b[0;34m\u001b[0m\u001b[0;34m\u001b[0m\u001b[0m\n\u001b[0m",
            "\u001b[0;32m\u003cipython-input-116-a3ba64735546\u003e\u001b[0m in \u001b[0;36mproduct2\u001b[0;34m(*args)\u001b[0m\n\u001b[1;32m      3\u001b[0m     \u001b[0;32mfor\u001b[0m \u001b[0marg\u001b[0m \u001b[0;32min\u001b[0m \u001b[0margs\u001b[0m\u001b[0;34m:\u001b[0m\u001b[0;34m\u001b[0m\u001b[0;34m\u001b[0m\u001b[0m\n\u001b[1;32m      4\u001b[0m         \u001b[0mresult\u001b[0m \u001b[0;34m*\u003d\u001b[0m \u001b[0marg\u001b[0m\u001b[0;34m\u001b[0m\u001b[0;34m\u001b[0m\u001b[0m\n\u001b[0;32m----\u003e 5\u001b[0;31m     \u001b[0;32massert\u001b[0m \u001b[0mresult\u001b[0m\u001b[0;34m,\u001b[0m \u001b[0;34m\u00270 arguments\u0027\u001b[0m\u001b[0;34m\u001b[0m\u001b[0;34m\u001b[0m\u001b[0m\n\u001b[0m\u001b[1;32m      6\u001b[0m     \u001b[0;32mreturn\u001b[0m \u001b[0mresult\u001b[0m\u001b[0;34m\u001b[0m\u001b[0;34m\u001b[0m\u001b[0m\n\u001b[1;32m      7\u001b[0m \u001b[0;34m\u001b[0m\u001b[0m\n",
            "\u001b[0;31mAssertionError\u001b[0m: 0 arguments"
          ],
          "ename": "AssertionError",
          "evalue": "0 arguments",
          "output_type": "error"
        }
      ],
      "source": "def product2(*args):  #  оптимистичная\n    result \u003d 1\n    for arg in args:\n        result *\u003d arg\n    assert result, \u00270 arguments\u0027\n    return result\n\nproduct2(0, 1)",
      "metadata": {
        "pycharm": {
          "metadata": false,
          "name": "#%%\n",
          "is_executing": false
        }
      }
    },
    {
      "cell_type": "code",
      "execution_count": null,
      "outputs": [],
      "source": "import datetime\ndatetime.date.today()",
      "metadata": {
        "pycharm": {
          "metadata": false,
          "name": "#%%\n"
        }
      }
    }
  ],
  "metadata": {
    "language_info": {
      "codemirror_mode": {
        "name": "ipython",
        "version": 2
      },
      "file_extension": ".py",
      "mimetype": "text/x-python",
      "name": "python",
      "nbconvert_exporter": "python",
      "pygments_lexer": "ipython2",
      "version": "2.7.6"
    },
    "kernelspec": {
      "name": "python3",
      "language": "python",
      "display_name": "Python 3"
    },
    "stem_cell": {
      "cell_type": "raw",
      "source": "",
      "metadata": {
        "pycharm": {
          "metadata": false
        }
      }
    }
  },
  "nbformat": 4,
  "nbformat_minor": 0
}