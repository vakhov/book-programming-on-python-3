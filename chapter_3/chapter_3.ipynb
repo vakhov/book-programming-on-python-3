{
  "cells": [
    {
      "cell_type": "markdown",
      "source": "Последовательности",
      "metadata": {
        "pycharm": {
          "metadata": false
        }
      }
    },
    {
      "cell_type": "code",
      "execution_count": null,
      "outputs": [],
      "source": "# кортеж\ntuple()\n",
      "metadata": {
        "pycharm": {
          "metadata": false,
          "name": "#%%\n"
        }
      }
    },
    {
      "cell_type": "code",
      "execution_count": null,
      "outputs": [],
      "source": "tuple(\u0027test\u0027)",
      "metadata": {
        "pycharm": {
          "metadata": false,
          "name": "#%%\n"
        }
      }
    },
    {
      "cell_type": "code",
      "execution_count": null,
      "outputs": [],
      "source": "t \u003d (\u0027venus\u0027, -28, \u0027green\u0027, \u002721\u0027, 19.74)",
      "metadata": {
        "pycharm": {
          "metadata": false,
          "name": "#%%\n"
        }
      }
    },
    {
      "cell_type": "code",
      "execution_count": null,
      "outputs": [],
      "source": "type(t)",
      "metadata": {
        "pycharm": {
          "metadata": false,
          "name": "#%%\n"
        }
      }
    },
    {
      "cell_type": "code",
      "execution_count": null,
      "outputs": [],
      "source": "t.count(\u002721\u0027)",
      "metadata": {
        "pycharm": {
          "metadata": false,
          "name": "#%%\n"
        }
      }
    },
    {
      "cell_type": "code",
      "execution_count": null,
      "outputs": [],
      "source": "t.index(\u0027red\u0027)",
      "metadata": {
        "pycharm": {
          "metadata": false,
          "name": "#%%\n"
        }
      }
    },
    {
      "cell_type": "code",
      "execution_count": null,
      "outputs": [],
      "source": "t.index(\u0027green\u0027)",
      "metadata": {
        "pycharm": {
          "metadata": false,
          "name": "#%%\n"
        }
      }
    },
    {
      "cell_type": "code",
      "execution_count": null,
      "outputs": [],
      "source": "19.74 in t",
      "metadata": {
        "pycharm": {
          "metadata": false,
          "name": "#%%\n"
        }
      }
    },
    {
      "cell_type": "code",
      "execution_count": null,
      "outputs": [],
      "source": "22 not in t",
      "metadata": {
        "pycharm": {
          "metadata": false,
          "name": "#%%\n"
        }
      }
    },
    {
      "cell_type": "code",
      "execution_count": null,
      "outputs": [],
      "source": "t * 2",
      "metadata": {
        "pycharm": {
          "metadata": false,
          "name": "#%%\n"
        }
      }
    },
    {
      "cell_type": "code",
      "execution_count": null,
      "outputs": [],
      "source": "tt \u003d t\nt \u003d\u003d tt",
      "metadata": {
        "pycharm": {
          "metadata": false,
          "name": "#%%\n"
        }
      }
    },
    {
      "cell_type": "code",
      "execution_count": null,
      "outputs": [],
      "source": "hair \u003d \u0027black\u0027, \u0027brown\u0027, \u0027blonde\u0027, \u0027red\u0027",
      "metadata": {
        "pycharm": {
          "metadata": false,
          "name": "#%%\n"
        }
      }
    },
    {
      "cell_type": "code",
      "execution_count": null,
      "outputs": [],
      "source": "hair[2]",
      "metadata": {
        "pycharm": {
          "metadata": false,
          "name": "#%%\n"
        }
      }
    },
    {
      "cell_type": "code",
      "execution_count": null,
      "outputs": [],
      "source": "hair[-3:]",
      "metadata": {
        "pycharm": {
          "metadata": false,
          "name": "#%%\n"
        }
      }
    },
    {
      "cell_type": "code",
      "execution_count": null,
      "outputs": [],
      "source": "hair[1:]",
      "metadata": {
        "pycharm": {
          "metadata": false,
          "name": "#%%\n"
        }
      }
    },
    {
      "cell_type": "code",
      "execution_count": null,
      "outputs": [],
      "source": "hair[:2], \u0027gray\u0027, hair[2:]",
      "metadata": {
        "pycharm": {
          "metadata": false,
          "name": "#%%\n"
        }
      }
    },
    {
      "cell_type": "code",
      "execution_count": null,
      "outputs": [],
      "source": "hair[:2] + (\u0027gray\u0027, ) + hair[2:]",
      "metadata": {
        "pycharm": {
          "metadata": false,
          "name": "#%%\n"
        }
      }
    },
    {
      "cell_type": "code",
      "execution_count": null,
      "outputs": [],
      "source": "eyes \u003d (\u0027brown\u0027, \u0027hazel\u0027, \u0027amber\u0027, \u0027green\u0027, \u0027blue\u0027, \u0027gray\u0027)\ncolors \u003d (hair, eyes)\ncolors[1][3:-1]",
      "metadata": {
        "pycharm": {
          "metadata": false,
          "name": "#%%\n"
        }
      }
    },
    {
      "cell_type": "code",
      "execution_count": null,
      "outputs": [],
      "source": "things \u003d (1, -7.5, (\u0027pea\u0027, (5, \u0027Xyz\u0027), \u0027queue\u0027))\nthings[2][1][1][2]",
      "metadata": {
        "pycharm": {
          "metadata": false,
          "name": "#%%\n"
        }
      }
    },
    {
      "cell_type": "code",
      "execution_count": null,
      "outputs": [],
      "source": "MANUFACTURER, MODEL, SEATING \u003d (0, 1, 2)\nMINIMUM, MAXIMUM \u003d (0, 1)\naircraft \u003d (\u0027Airbus\u0027, \u0027A320-200\u0027, (100, 200))\naircraft[SEATING][MAXIMUM]",
      "metadata": {
        "pycharm": {
          "metadata": false,
          "name": "#%%\n"
        }
      }
    },
    {
      "cell_type": "code",
      "execution_count": null,
      "outputs": [],
      "source": "import math\nfor x, y in ((-3, 4), (5, 12), (28, -45)):\n    print(math.hypot(x, y))",
      "metadata": {
        "pycharm": {
          "metadata": false,
          "name": "#%%\n"
        }
      }
    },
    {
      "cell_type": "code",
      "execution_count": null,
      "outputs": [],
      "source": "import collections\n\nSale \u003d collections.namedtuple(\u0027Sale\u0027, \u0027productid customerid date quantity price\u0027)",
      "metadata": {
        "pycharm": {
          "metadata": false,
          "name": "#%%\n"
        }
      }
    },
    {
      "cell_type": "code",
      "execution_count": null,
      "outputs": [],
      "source": "type(Sale)",
      "metadata": {
        "pycharm": {
          "metadata": false,
          "name": "#%%\n"
        }
      }
    },
    {
      "cell_type": "code",
      "execution_count": null,
      "outputs": [],
      "source": "sales \u003d []\nsales.append(Sale(432, 921, \u00272008-09-14\u0027, 3, 7.99))\nsales.append(Sale(419, 874, \u00272008-09-15\u0027, 1, 18.49))",
      "metadata": {
        "pycharm": {
          "metadata": false,
          "name": "#%%\n"
        }
      }
    },
    {
      "cell_type": "code",
      "execution_count": null,
      "outputs": [],
      "source": "sales[0][-1]",
      "metadata": {
        "pycharm": {
          "metadata": false,
          "name": "#%%\n"
        }
      }
    },
    {
      "cell_type": "code",
      "execution_count": null,
      "outputs": [],
      "source": "total \u003d 0\nfor sale in sales:\n    total +\u003d sale.quantity * sale.price\nprint(\u0027Total ${0:.2f}\u0027.format(total))",
      "metadata": {
        "pycharm": {
          "metadata": false,
          "name": "#%%\n"
        }
      }
    },
    {
      "cell_type": "code",
      "execution_count": null,
      "outputs": [],
      "source": "Aircraft \u003d collections.namedtuple(\u0027Aircraft\u0027, \u0027manufacture model seating\u0027)\nSeating \u003d collections.namedtuple(\u0027Seating\u0027, \u0027minimum maximum\u0027)\naircraft \u003d Aircraft(\u0027Airbus\u0027, \u0027A320-200\u0027, Seating(100, 200))\naircraft.seating.maximum",
      "metadata": {
        "pycharm": {
          "metadata": false,
          "name": "#%%\n"
        }
      }
    },
    {
      "cell_type": "code",
      "execution_count": null,
      "outputs": [],
      "source": "# Списки\nL \u003d [-17.5, \u0027kilo\u0027, 49, \u0027V\u0027, [\u0027ram\u0027, 5, \u0027echo\u0027], 7]",
      "metadata": {
        "pycharm": {
          "metadata": false,
          "name": "#%%\n"
        }
      }
    },
    {
      "cell_type": "code",
      "execution_count": null,
      "outputs": [],
      "source": "L[0] \u003d\u003d L[-6] \u003d\u003d -17.5",
      "metadata": {
        "pycharm": {
          "metadata": false,
          "name": "#%%\n"
        }
      }
    },
    {
      "cell_type": "code",
      "execution_count": null,
      "outputs": [],
      "source": "L[1] \u003d\u003d L[-5] \u003d\u003d \u0027kilo\u0027\n",
      "metadata": {
        "pycharm": {
          "metadata": false,
          "name": "#%%\n"
        }
      }
    },
    {
      "cell_type": "code",
      "execution_count": null,
      "outputs": [],
      "source": "L[1][0] \u003d\u003d L[-5][0] \u003d\u003d \u0027k\u0027",
      "metadata": {
        "pycharm": {
          "metadata": false,
          "name": "#%%\n"
        }
      }
    },
    {
      "cell_type": "code",
      "execution_count": null,
      "outputs": [],
      "source": "L[4][2] \u003d\u003d L[4][-1] \u003d\u003d L[-2][2] \u003d\u003d L[-2][-1] \u003d\u003d \u0027echo\u0027",
      "metadata": {
        "pycharm": {
          "metadata": false,
          "name": "#%%\n"
        }
      }
    },
    {
      "cell_type": "code",
      "execution_count": null,
      "outputs": [],
      "source": "L[4][2][1] \u003d\u003d L[4][2][-3] \u003d\u003d L[-2][-1][1] \u003d\u003d L[-2][-1][-3] \u003d\u003d \u0027c\u0027",
      "metadata": {
        "pycharm": {
          "metadata": false,
          "name": "#%%\n"
        }
      }
    },
    {
      "cell_type": "code",
      "execution_count": null,
      "outputs": [],
      "source": "\na \u003d [1, 2]\nb \u003d [3, 4]\n",
      "metadata": {
        "pycharm": {
          "metadata": false,
          "name": "#%%\n"
        }
      }
    },
    {
      "cell_type": "code",
      "execution_count": null,
      "outputs": [],
      "source": "b.extend(a)\nb",
      "metadata": {
        "pycharm": {
          "metadata": false,
          "name": "#%%\n"
        }
      }
    },
    {
      "cell_type": "code",
      "execution_count": null,
      "outputs": [],
      "source": "b.reverse()",
      "metadata": {
        "pycharm": {
          "metadata": false,
          "name": "#%%\n"
        }
      }
    },
    {
      "cell_type": "code",
      "execution_count": null,
      "outputs": [],
      "source": "b",
      "metadata": {
        "pycharm": {
          "metadata": false,
          "name": "#%%\n"
        }
      }
    },
    {
      "cell_type": "code",
      "execution_count": null,
      "outputs": [],
      "source": "first, *rest \u003d [9, 2, -4, 8, 7]",
      "metadata": {
        "pycharm": {
          "metadata": false,
          "name": "#%%\n"
        }
      }
    },
    {
      "cell_type": "code",
      "execution_count": null,
      "outputs": [],
      "source": "first, rest",
      "metadata": {
        "pycharm": {
          "metadata": false,
          "name": "#%%\n"
        }
      }
    },
    {
      "cell_type": "code",
      "execution_count": null,
      "outputs": [],
      "source": "first, *mid, last \u003d \u0027Charles Philip Arthur George Windsor\u0027.split()",
      "metadata": {
        "pycharm": {
          "metadata": false,
          "name": "#%%\n"
        }
      }
    },
    {
      "cell_type": "code",
      "execution_count": null,
      "outputs": [],
      "source": "first, mid, last",
      "metadata": {
        "pycharm": {
          "metadata": false,
          "name": "#%%\n"
        }
      }
    },
    {
      "cell_type": "code",
      "execution_count": null,
      "outputs": [],
      "source": "*directories, executable \u003d \u0027/usr/local/bin/gvim\u0027.split(\u0027/\u0027)",
      "metadata": {
        "pycharm": {
          "metadata": false,
          "name": "#%%\n"
        }
      }
    },
    {
      "cell_type": "code",
      "execution_count": null,
      "outputs": [],
      "source": "directories, executable",
      "metadata": {
        "pycharm": {
          "metadata": false,
          "name": "#%%\n"
        }
      }
    },
    {
      "cell_type": "code",
      "execution_count": null,
      "outputs": [],
      "source": "def product(a, b, c):\n    return a * b * c\nL \u003d [2, 3, 5]\nproduct(*L)",
      "metadata": {
        "pycharm": {
          "metadata": false,
          "name": "#%%\n"
        }
      }
    },
    {
      "cell_type": "code",
      "execution_count": null,
      "outputs": [],
      "source": "product(2, *L[1:])",
      "metadata": {
        "pycharm": {
          "metadata": false,
          "name": "#%%\n"
        }
      }
    },
    {
      "cell_type": "code",
      "execution_count": null,
      "outputs": [],
      "source": "woods \u003d [\u0027Cedar\u0027, \u0027Yew\u0027, \u0027Fir\u0027]\nwoods +\u003d [\u0027Kauri\u0027, \u0027Larch\u0027]\nwoods",
      "metadata": {
        "pycharm": {
          "metadata": false,
          "name": "#%%\n"
        }
      }
    },
    {
      "cell_type": "code",
      "execution_count": null,
      "outputs": [],
      "source": "woods \u003d [\u0027Cedar\u0027, \u0027Yew\u0027, \u0027Fir\u0027]\nwoods.extend([\u0027Kauri\u0027, \u0027Larch\u0027])\nwoods",
      "metadata": {
        "pycharm": {
          "metadata": false,
          "name": "#%%\n"
        }
      }
    },
    {
      "cell_type": "code",
      "execution_count": null,
      "outputs": [],
      "source": "x \u003d 999\nid(x)",
      "metadata": {
        "pycharm": {
          "metadata": false,
          "name": "#%%\n"
        }
      }
    },
    {
      "cell_type": "code",
      "execution_count": null,
      "outputs": [],
      "source": "del(x)",
      "metadata": {
        "pycharm": {
          "metadata": false,
          "name": "#%%\n"
        }
      }
    },
    {
      "cell_type": "code",
      "execution_count": null,
      "outputs": [],
      "source": "x",
      "metadata": {
        "pycharm": {
          "metadata": false,
          "name": "#%%\n"
        }
      }
    },
    {
      "cell_type": "code",
      "execution_count": null,
      "outputs": [],
      "source": "x \u003d 2\nid(x)",
      "metadata": {
        "pycharm": {
          "metadata": false,
          "name": "#%%\n"
        }
      }
    },
    {
      "cell_type": "code",
      "execution_count": null,
      "outputs": [],
      "source": "del(x)",
      "metadata": {
        "pycharm": {
          "metadata": false,
          "name": "#%%\n"
        }
      }
    },
    {
      "cell_type": "code",
      "execution_count": null,
      "outputs": [],
      "source": "x \u003d 2\nid(x)",
      "metadata": {
        "pycharm": {
          "metadata": false,
          "name": "#%%\n"
        }
      }
    },
    {
      "cell_type": "code",
      "execution_count": null,
      "outputs": [],
      "source": "z \u003d [1, 2, 3, 4, 5, 6, 7, 8, 9]",
      "metadata": {
        "pycharm": {
          "metadata": false,
          "name": "#%%\n"
        }
      }
    },
    {
      "cell_type": "code",
      "execution_count": null,
      "outputs": [],
      "source": "del(z[2:-2])",
      "metadata": {
        "pycharm": {
          "metadata": false,
          "name": "#%%\n"
        }
      }
    },
    {
      "cell_type": "code",
      "execution_count": null,
      "outputs": [],
      "source": "z",
      "metadata": {
        "pycharm": {
          "metadata": false,
          "name": "#%%\n"
        }
      }
    },
    {
      "cell_type": "code",
      "execution_count": null,
      "outputs": [],
      "source": "z.insert(2, [6, 4, 77])",
      "metadata": {
        "pycharm": {
          "metadata": false,
          "name": "#%%\n"
        }
      }
    },
    {
      "cell_type": "code",
      "execution_count": null,
      "outputs": [],
      "source": "z",
      "metadata": {
        "pycharm": {
          "metadata": false,
          "name": "#%%\n"
        }
      }
    },
    {
      "cell_type": "code",
      "execution_count": null,
      "outputs": [],
      "source": "z[2:2] \u003d [555]",
      "metadata": {
        "pycharm": {
          "metadata": false,
          "name": "#%%\n"
        }
      }
    },
    {
      "cell_type": "code",
      "execution_count": null,
      "outputs": [],
      "source": "z",
      "metadata": {
        "pycharm": {
          "metadata": false,
          "name": "#%%\n"
        }
      }
    },
    {
      "cell_type": "code",
      "execution_count": null,
      "outputs": [],
      "source": "L \u003d [\u0027A\u0027, \u0027B\u0027, \u0027C\u0027, \u0027D\u0027, \u0027E\u0027, \u0027F\u0027]\nL",
      "metadata": {
        "pycharm": {
          "metadata": false,
          "name": "#%%\n"
        }
      }
    },
    {
      "cell_type": "code",
      "execution_count": null,
      "outputs": [],
      "source": "L[2:5] \u003d [\u0027X\u0027, \u0027Y\u0027]\nL",
      "metadata": {
        "pycharm": {
          "metadata": false,
          "name": "#%%\n"
        }
      }
    },
    {
      "cell_type": "code",
      "execution_count": null,
      "outputs": [],
      "source": "L.pop()",
      "metadata": {
        "pycharm": {
          "metadata": false,
          "name": "#%%\n"
        }
      }
    },
    {
      "cell_type": "code",
      "execution_count": null,
      "outputs": [],
      "source": "L.remove(\u0027A\u0027)\nL",
      "metadata": {
        "pycharm": {
          "metadata": false,
          "name": "#%%\n"
        }
      }
    },
    {
      "cell_type": "code",
      "execution_count": null,
      "outputs": [],
      "source": "del L[-1]",
      "metadata": {
        "pycharm": {
          "metadata": false,
          "name": "#%%\n"
        }
      }
    },
    {
      "cell_type": "code",
      "execution_count": null,
      "outputs": [],
      "source": "L",
      "metadata": {
        "pycharm": {
          "metadata": false,
          "name": "#%%\n"
        }
      }
    },
    {
      "cell_type": "code",
      "execution_count": null,
      "outputs": [],
      "source": "L \u003d [\u0027A\u0027, \u0027B\u0027, \u0027C\u0027, \u0027D\u0027, \u0027E\u0027, \u0027F\u0027]\nL",
      "metadata": {
        "pycharm": {
          "metadata": false,
          "name": "#%%\n"
        }
      }
    },
    {
      "cell_type": "code",
      "execution_count": null,
      "outputs": [],
      "source": "L[2:4] \u003d []",
      "metadata": {
        "pycharm": {
          "metadata": false,
          "name": "#%%\n"
        }
      }
    },
    {
      "cell_type": "code",
      "execution_count": null,
      "outputs": [],
      "source": "L",
      "metadata": {
        "pycharm": {
          "metadata": false,
          "name": "#%%\n"
        }
      }
    },
    {
      "cell_type": "code",
      "execution_count": null,
      "outputs": [],
      "source": "L \u003d [\u0027A\u0027, \u0027B\u0027, \u0027C\u0027, \u0027D\u0027, \u0027E\u0027, \u0027F\u0027]\nL",
      "metadata": {
        "pycharm": {
          "metadata": false,
          "name": "#%%\n"
        }
      }
    },
    {
      "cell_type": "code",
      "execution_count": null,
      "outputs": [],
      "source": "del L[2:4]\nL",
      "metadata": {
        "pycharm": {
          "metadata": false,
          "name": "#%%\n"
        }
      }
    },
    {
      "cell_type": "code",
      "execution_count": null,
      "outputs": [],
      "source": "x \u003d [1, 2, 3, 4, 5, 6, 7, 8, 9, 10]\n# Присвоить значение 0 каждому нечетнму элементу в списке х\nx[1::2] \u003d [0] * len(x[1::2])\nx",
      "metadata": {
        "pycharm": {
          "metadata": false,
          "name": "#%%\n"
        }
      }
    },
    {
      "cell_type": "code",
      "execution_count": null,
      "outputs": [],
      "source": "woods.sort(key\u003dstr.islower)\nwoods",
      "metadata": {
        "pycharm": {
          "metadata": false,
          "name": "#%%\n"
        }
      }
    },
    {
      "cell_type": "code",
      "execution_count": null,
      "outputs": [],
      "source": "woods.reverse()\n",
      "metadata": {
        "pycharm": {
          "metadata": false,
          "name": "#%%\n"
        }
      }
    },
    {
      "cell_type": "code",
      "execution_count": null,
      "outputs": [],
      "source": "woods",
      "metadata": {
        "pycharm": {
          "metadata": false,
          "name": "#%%\n"
        }
      }
    },
    {
      "cell_type": "code",
      "execution_count": null,
      "outputs": [],
      "source": "\nwoods.sort(key\u003dstr.lower)",
      "metadata": {
        "pycharm": {
          "metadata": false,
          "name": "#%%\n"
        }
      }
    },
    {
      "cell_type": "code",
      "execution_count": null,
      "outputs": [],
      "source": "woods",
      "metadata": {
        "pycharm": {
          "metadata": false,
          "name": "#%%\n"
        }
      }
    },
    {
      "cell_type": "code",
      "execution_count": null,
      "outputs": [],
      "source": "",
      "metadata": {
        "pycharm": {
          "metadata": false,
          "name": "#%%\n"
        }
      }
    },
    {
      "cell_type": "markdown",
      "source": "Генераторы списков",
      "metadata": {
        "pycharm": {
          "metadata": false
        }
      }
    },
    {
      "cell_type": "code",
      "execution_count": null,
      "outputs": [],
      "source": "lr \u003d list(range(20))\nlr",
      "metadata": {
        "pycharm": {
          "metadata": false,
          "name": "#%%\n"
        }
      }
    },
    {
      "cell_type": "code",
      "execution_count": null,
      "outputs": [],
      "source": "type(lr)\n",
      "metadata": {
        "pycharm": {
          "metadata": false,
          "name": "#%%\n"
        }
      }
    },
    {
      "cell_type": "code",
      "execution_count": null,
      "outputs": [],
      "source": "# високосный год\nleaps \u003d []\nfor year in range(1900, 2020):\n    if (year % 4 \u003d\u003d 0 and year % 100 !\u003d 0) or (year % 400 \u003d\u003d 0):\n        leaps.append(year)\n\nprint(leaps)",
      "metadata": {
        "pycharm": {
          "metadata": false,
          "name": "#%%\n"
        }
      }
    },
    {
      "cell_type": "code",
      "execution_count": null,
      "outputs": [],
      "source": "leaps \u003d [y for y in range(1900, 1940)] or list(range(1900, 1940))\nprint(leaps)",
      "metadata": {
        "pycharm": {
          "metadata": false,
          "name": "#%%\n"
        }
      }
    },
    {
      "cell_type": "code",
      "execution_count": null,
      "outputs": [],
      "source": "leaps \u003d [y for y in range(1900, 1940) if y  % 4 \u003d\u003d 0]\nprint(leaps)",
      "metadata": {
        "pycharm": {
          "metadata": false,
          "name": "#%%\n"
        }
      }
    },
    {
      "cell_type": "code",
      "execution_count": null,
      "outputs": [],
      "source": "leaps \u003d [y for y in range(1900, 1940) if (y % 4 \u003d\u003d 0 and y % 100 !\u003d 0) or (y % 400 \u003d\u003d 0)]\nprint(leaps)",
      "metadata": {
        "pycharm": {
          "metadata": false,
          "name": "#%%\n"
        }
      }
    },
    {
      "cell_type": "code",
      "execution_count": null,
      "outputs": [],
      "source": "codes \u003d []\nfor sex in \u0027MF\u0027:  # Male - мужская, Female - женская\n    for size in \u0027SMLX\u0027:  # Маленький, средгний, большой, очень большой\n        if size \u003d\u003d \u0027X\u0027 and sex \u003d\u003d \u0027F\u0027:\n            continue\n        for color in \u0027BGW\u0027:\n            codes.append(\u0027{0}{1}{2}\u0027.format(sex, size, color))\nprint(codes)\nprint(len(codes))",
      "metadata": {
        "pycharm": {
          "metadata": false,
          "name": "#%%\n"
        }
      }
    },
    {
      "cell_type": "code",
      "execution_count": null,
      "outputs": [],
      "source": "codes \u003d [s + z + c for s in \u0027MF\u0027 for z in \u0027SMLX\u0027 for c in \u0027BGW\u0027 if not(s \u003d\u003d \u0027F\u0027 and z \u003d\u003d \u0027X\u0027)]\nprint(codes)\nprint(len(codes))",
      "metadata": {
        "pycharm": {
          "metadata": false,
          "name": "#%%\n"
        }
      }
    },
    {
      "cell_type": "code",
      "execution_count": null,
      "outputs": [],
      "source": "ll \u003d \u002711212dsadsadas\u0027\nll.__hash__()\nhash(ll)",
      "metadata": {
        "pycharm": {
          "metadata": false,
          "name": "#%%\n"
        }
      }
    },
    {
      "cell_type": "code",
      "execution_count": null,
      "outputs": [],
      "source": "s \u003d {7, \u0027veil\u0027, 0, -29, (\u0027x\u0027, 11), \u0027sun\u0027, frozenset({8, 4, 7}), 913}\nprint(s)",
      "metadata": {
        "pycharm": {
          "metadata": false,
          "name": "#%%\n"
        }
      }
    },
    {
      "cell_type": "code",
      "execution_count": null,
      "outputs": [],
      "source": "print(s)",
      "metadata": {
        "pycharm": {
          "metadata": false,
          "name": "#%%\n"
        }
      }
    },
    {
      "cell_type": "code",
      "execution_count": null,
      "outputs": [],
      "source": "s[0]  # не поддерживает доступ по индексу и срезы",
      "metadata": {
        "pycharm": {
          "metadata": false,
          "name": "#%%\n"
        }
      }
    },
    {
      "cell_type": "code",
      "execution_count": null,
      "outputs": [],
      "source": "type(set())",
      "metadata": {
        "pycharm": {
          "metadata": false,
          "name": "#%%\n"
        }
      }
    },
    {
      "cell_type": "code",
      "execution_count": null,
      "outputs": [],
      "source": "apple \u003d set(\u0027apple\u0027)\nprint(apple)\n",
      "metadata": {
        "pycharm": {
          "metadata": false,
          "name": "#%%\n"
        }
      }
    },
    {
      "cell_type": "code",
      "execution_count": null,
      "outputs": [],
      "source": "apple.add(\u0027a\u0027)",
      "metadata": {
        "pycharm": {
          "metadata": false,
          "name": "#%%\n"
        }
      }
    },
    {
      "cell_type": "code",
      "execution_count": null,
      "outputs": [],
      "source": "apple",
      "metadata": {
        "pycharm": {
          "metadata": false,
          "name": "#%%\n"
        }
      }
    },
    {
      "cell_type": "code",
      "execution_count": null,
      "outputs": [],
      "source": "apple.clear()\nprint(apple)",
      "metadata": {
        "pycharm": {
          "metadata": false,
          "name": "#%%\n"
        }
      }
    },
    {
      "cell_type": "code",
      "execution_count": null,
      "outputs": [],
      "source": "",
      "metadata": {
        "pycharm": {
          "metadata": false,
          "name": "#%%\n"
        }
      }
    },
    {
      "cell_type": "markdown",
      "source": "Словари\n",
      "metadata": {
        "pycharm": {
          "metadata": false
        }
      }
    },
    {
      "cell_type": "code",
      "execution_count": null,
      "outputs": [],
      "source": "d1 \u003d dict({\u0027id\u0027: 1948, \u0027name\u0027: \u0027Washer\u0027, \u0027size\u0027:3})\nprint(d1)",
      "metadata": {
        "pycharm": {
          "metadata": false,
          "name": "#%%\n"
        }
      }
    },
    {
      "cell_type": "code",
      "execution_count": null,
      "outputs": [],
      "source": "d2 \u003d dict(id\u003d1948, name\u003d\u0027Washer\u0027, size\u003d3)\nprint(d2)",
      "metadata": {
        "pycharm": {
          "metadata": false,
          "name": "#%%\n"
        }
      }
    },
    {
      "cell_type": "code",
      "execution_count": null,
      "outputs": [],
      "source": "d3 \u003d dict([(\u0027id\u0027,1948), (\u0027name\u0027, \u0027Washer\u0027), (\u0027size\u0027, 3)])\nprint(d3)",
      "metadata": {
        "pycharm": {
          "metadata": false,
          "name": "#%%\n"
        }
      }
    },
    {
      "cell_type": "code",
      "execution_count": null,
      "outputs": [],
      "source": "d4 \u003d dict(zip((\u0027id\u0027, \u0027name\u0027, \u0027size\u0027), (1948, \u0027Washer\u0027, 3)))\nprint(d4)",
      "metadata": {
        "pycharm": {
          "metadata": false,
          "name": "#%%\n"
        }
      }
    },
    {
      "cell_type": "code",
      "execution_count": null,
      "outputs": [],
      "source": "for item in d4.items():\n    print(item[0], item[1])",
      "metadata": {
        "pycharm": {
          "metadata": false,
          "name": "#%%\n"
        }
      }
    },
    {
      "cell_type": "code",
      "execution_count": null,
      "outputs": [],
      "source": "for key, value in d4.items():\n    print(key, value)\n",
      "metadata": {
        "pycharm": {
          "metadata": false,
          "name": "#%%\n"
        }
      }
    },
    {
      "cell_type": "code",
      "execution_count": null,
      "outputs": [],
      "source": "for key in d4:\n    print(key)",
      "metadata": {
        "pycharm": {
          "metadata": false,
          "name": "#%%\n"
        }
      }
    },
    {
      "cell_type": "code",
      "execution_count": null,
      "outputs": [],
      "source": "set(\u0027pecan\u0027) | set(\u0027pie\u0027)  # Обединение",
      "metadata": {
        "pycharm": {
          "metadata": false,
          "name": "#%%\n"
        }
      }
    },
    {
      "cell_type": "code",
      "execution_count": null,
      "outputs": [],
      "source": "set(\u0027pecan\u0027) \u0026 set(\u0027pie\u0027)  # Перечение",
      "metadata": {
        "pycharm": {
          "metadata": false,
          "name": "#%%\n"
        }
      }
    },
    {
      "cell_type": "code",
      "execution_count": null,
      "outputs": [],
      "source": "set(\u0027pecan\u0027) - set(\u0027pie\u0027)  # Разность",
      "metadata": {
        "pycharm": {
          "metadata": false,
          "name": "#%%\n"
        }
      }
    },
    {
      "cell_type": "code",
      "execution_count": null,
      "outputs": [],
      "source": "set(\u0027pecan\u0027) ^ set(\u0027pie\u0027)  # Строгая дизъюнкция (исключающее или)",
      "metadata": {
        "pycharm": {
          "metadata": false,
          "name": "#%%\n"
        }
      }
    },
    {
      "cell_type": "code",
      "execution_count": null,
      "outputs": [],
      "source": "d \u003d {}.fromkeys(\u0027ABCD\u0027, 3)\nprint(d)",
      "metadata": {
        "pycharm": {
          "metadata": false,
          "name": "#%%\n"
        }
      }
    },
    {
      "cell_type": "code",
      "execution_count": null,
      "outputs": [],
      "source": "s \u003d set(\u0027ACX\u0027)\nmatched \u003d d.keys() \u0026 s\nprint(matched)",
      "metadata": {
        "pycharm": {
          "metadata": false,
          "name": "#%%\n"
        }
      }
    },
    {
      "cell_type": "code",
      "execution_count": null,
      "outputs": [],
      "source": "import os\nfile_sizes \u003d {name: os.path.getsize(name) for name in os.listdir(\u0027.\u0027) if os.path.isfile(name)}\nprint(file_sizes)",
      "metadata": {
        "pycharm": {
          "metadata": false,
          "name": "#%%\n"
        }
      }
    },
    {
      "cell_type": "code",
      "execution_count": null,
      "outputs": [],
      "source": "file_sizes",
      "metadata": {
        "pycharm": {
          "metadata": false,
          "name": "#%%\n"
        }
      }
    },
    {
      "cell_type": "code",
      "execution_count": null,
      "outputs": [],
      "source": "invert_d \u003d {v: k for k, v in file_sizes.items()}\nprint(invert_d)",
      "metadata": {
        "pycharm": {
          "metadata": false,
          "name": "#%%\n"
        }
      }
    },
    {
      "cell_type": "code",
      "execution_count": null,
      "outputs": [],
      "source": "int()",
      "metadata": {
        "pycharm": {
          "metadata": false,
          "name": "#%%\n"
        }
      }
    },
    {
      "cell_type": "markdown",
      "source": "Обход в цикле и копирование коллекций",
      "metadata": {
        "pycharm": {
          "metadata": false
        }
      }
    },
    {
      "cell_type": "code",
      "execution_count": null,
      "outputs": [],
      "source": "class One:\n    def __init__(self):\n        self.value \u003d \u0027test\u0027\n    \n    def __getitem__(self, item):\n        print(self.value[item])\n\n\none \u003d One()\none[1]",
      "metadata": {
        "pycharm": {
          "metadata": false,
          "name": "#%%\n"
        }
      }
    },
    {
      "cell_type": "code",
      "execution_count": null,
      "outputs": [],
      "source": "type(one)\n",
      "metadata": {
        "pycharm": {
          "metadata": false,
          "name": "#%%\n"
        }
      }
    },
    {
      "cell_type": "code",
      "execution_count": null,
      "outputs": [],
      "source": "all(one)",
      "metadata": {
        "pycharm": {
          "metadata": false,
          "name": "#%%\n"
        }
      }
    },
    {
      "cell_type": "code",
      "execution_count": null,
      "outputs": [],
      "source": "x \u003d [-2, 9, 7, -4, 3]\nall(x), any(x), len(x), min(x), max(x), sum(x)",
      "metadata": {
        "pycharm": {
          "metadata": false,
          "name": "#%%\n"
        }
      }
    },
    {
      "cell_type": "code",
      "execution_count": null,
      "outputs": [],
      "source": "x.append(0)\nall(x), any(x), len(x), min(x), max(x), sum(x)\n",
      "metadata": {
        "pycharm": {
          "metadata": false,
          "name": "#%%\n"
        }
      }
    },
    {
      "cell_type": "code",
      "execution_count": 28,
      "outputs": [
        {
          "name": "stdout",
          "text": [
            "64\n0.0003668449935503304\n"
          ],
          "output_type": "stream"
        }
      ],
      "source": "import time\nstart \u003d time.monotonic()\nproducti \u003d 1\nfor i in [1, 2, 4, 8]:\n    producti *\u003d i\nprint(producti)\nprint(time.monotonic()-start)",
      "metadata": {
        "pycharm": {
          "metadata": false,
          "name": "#%%\n",
          "is_executing": false
        }
      }
    },
    {
      "cell_type": "code",
      "execution_count": 29,
      "outputs": [
        {
          "name": "stdout",
          "text": [
            "64\n0.0004332359822001308\n"
          ],
          "output_type": "stream"
        }
      ],
      "source": "start \u003d time.monotonic()\nproducti \u003d 1\ni \u003d iter([1, 2, 4, 8])\nwhile True:\n    try:\n        producti *\u003d next(i)\n    except StopIteration:\n        break\n\nprint(producti)\nprint(time.monotonic()-start)",
      "metadata": {
        "pycharm": {
          "metadata": false,
          "name": "#%%\n",
          "is_executing": false
        }
      }
    },
    {
      "cell_type": "code",
      "execution_count": 31,
      "outputs": [
        {
          "name": "stdout",
          "text": [
            "[11, 3, 12, 8, 1]\n"
          ],
          "output_type": "stream"
        }
      ],
      "source": "x \u003d [11, -3, -12, 8, -1]\nfor i in range(len(x)):\n    x[i] \u003d abs(x[i])\nprint(x)",
      "metadata": {
        "pycharm": {
          "metadata": false,
          "name": "#%%\n",
          "is_executing": false
        }
      }
    },
    {
      "cell_type": "code",
      "execution_count": 33,
      "outputs": [
        {
          "name": "stdout",
          "text": [
            "[11, 3, 12, 8, 1]\n"
          ],
          "output_type": "stream"
        }
      ],
      "source": "x \u003d [11, -3, -12, 8, -1]\ni \u003d 0\nwhile i \u003c len(x):\n    x[i] \u003d abs(x[i])\n    i +\u003d 1\nprint(x)",
      "metadata": {
        "pycharm": {
          "metadata": false,
          "name": "#%%\n",
          "is_executing": false
        }
      }
    },
    {
      "cell_type": "code",
      "execution_count": 34,
      "outputs": [
        {
          "data": {
            "text/plain": "10"
          },
          "metadata": {},
          "output_type": "execute_result",
          "execution_count": 34
        }
      ],
      "source": "def calculate(a, b, c, d):\n    return a + b + c + d\n\ncalculate(1, 2, 3, 4)",
      "metadata": {
        "pycharm": {
          "metadata": false,
          "name": "#%%\n",
          "is_executing": false
        }
      }
    },
    {
      "cell_type": "code",
      "execution_count": 35,
      "outputs": [
        {
          "data": {
            "text/plain": "10"
          },
          "metadata": {},
          "output_type": "execute_result",
          "execution_count": 35
        }
      ],
      "source": "t \u003d (1, 2, 3, 4)\ncalculate(*t)",
      "metadata": {
        "pycharm": {
          "metadata": false,
          "name": "#%%\n",
          "is_executing": false
        }
      }
    },
    {
      "cell_type": "code",
      "execution_count": 38,
      "outputs": [
        {
          "data": {
            "text/plain": "10"
          },
          "metadata": {},
          "output_type": "execute_result",
          "execution_count": 38
        }
      ],
      "source": "calculate(*range(1, 5))",
      "metadata": {
        "pycharm": {
          "metadata": false,
          "name": "#%%\n",
          "is_executing": false
        }
      }
    },
    {
      "cell_type": "code",
      "execution_count": 51,
      "outputs": [
        {
          "name": "stdout",
          "text": [
            "\\Users\\av\\projects\\python\\programming-with-python3\\chapter_3\n/Users/av/projects/python/programming-with-python3/chapter_3\n"
          ],
          "output_type": "stream"
        }
      ],
      "source": "path \u003d \u0027/Users/av/projects/python/programming-with-python3/chapter_3\u0027\npath \u003d path.replace(\u0027/\u0027, \u0027\\\\\u0027)\nprint(path)\npath \u003d path.replace(\u0027\\\\\u0027, os.sep)\nprint(path)",
      "metadata": {
        "pycharm": {
          "metadata": false,
          "name": "#%%\n",
          "is_executing": false
        }
      }
    },
    {
      "cell_type": "code",
      "execution_count": 52,
      "outputs": [
        {
          "name": "stdout",
          "text": [
            "(0, 0, 1)\n(1, 2, 3)\n(2, 4, 5)\n(3, 6, 7)\n"
          ],
          "output_type": "stream"
        }
      ],
      "source": "for t in zip(range(4), range(0, 10, 2), range(1, 10, 2)):\n    print(t)",
      "metadata": {
        "pycharm": {
          "metadata": false,
          "name": "#%%\n",
          "is_executing": false
        }
      }
    },
    {
      "cell_type": "code",
      "execution_count": 53,
      "outputs": [
        {
          "data": {
            "text/plain": "[6, 4, 3, 5]"
          },
          "metadata": {},
          "output_type": "execute_result",
          "execution_count": 53
        }
      ],
      "source": "import random\nsample \u003d [1,2,3,4,5,6]\nrandom.sample(sample, 4)",
      "metadata": {
        "pycharm": {
          "metadata": false,
          "name": "#%%\n",
          "is_executing": false
        }
      }
    },
    {
      "cell_type": "code",
      "execution_count": 54,
      "outputs": [
        {
          "data": {
            "text/plain": "[0, 1, 2, 3, 4, 5]"
          },
          "metadata": {},
          "output_type": "execute_result",
          "execution_count": 54
        }
      ],
      "source": "list(range(6))",
      "metadata": {
        "pycharm": {
          "metadata": false,
          "name": "#%%\n",
          "is_executing": false
        }
      }
    },
    {
      "cell_type": "code",
      "execution_count": 55,
      "outputs": [
        {
          "data": {
            "text/plain": "[5, 4, 3, 2, 1, 0]"
          },
          "metadata": {},
          "output_type": "execute_result",
          "execution_count": 55
        }
      ],
      "source": "list(reversed(range(6)))",
      "metadata": {
        "pycharm": {
          "metadata": false,
          "name": "#%%\n",
          "is_executing": false
        }
      }
    },
    {
      "cell_type": "code",
      "execution_count": 2,
      "outputs": [
        {
          "name": "stdout",
          "text": [
            "[-10, 0, 1, -9, 2, 3, -8, 4, 5, -7, 6, 7, -6, 8, 9]\n"
          ],
          "output_type": "stream"
        }
      ],
      "source": "x \u003d []\nfor t in zip(range(-10, 0, 1), range(0, 10, 2), range(1, 10, 2)):\n    x +\u003d t\nprint(x)",
      "metadata": {
        "pycharm": {
          "metadata": false,
          "name": "#%%\n",
          "is_executing": false
        }
      }
    },
    {
      "cell_type": "code",
      "execution_count": 3,
      "outputs": [
        {
          "data": {
            "text/plain": "[-10, -9, -8, -7, -6, 0, 1, 2, 3, 4, 5, 6, 7, 8, 9]"
          },
          "metadata": {},
          "output_type": "execute_result",
          "execution_count": 3
        }
      ],
      "source": "sorted(x)",
      "metadata": {
        "pycharm": {
          "metadata": false,
          "name": "#%%\n",
          "is_executing": false
        }
      }
    },
    {
      "cell_type": "code",
      "execution_count": 4,
      "outputs": [
        {
          "data": {
            "text/plain": "[9, 8, 7, 6, 5, 4, 3, 2, 1, 0, -6, -7, -8, -9, -10]"
          },
          "metadata": {},
          "output_type": "execute_result",
          "execution_count": 4
        }
      ],
      "source": "sorted(x, reverse\u003dTrue)",
      "metadata": {
        "pycharm": {
          "metadata": false,
          "name": "#%%\n",
          "is_executing": false
        }
      }
    },
    {
      "cell_type": "code",
      "execution_count": 5,
      "outputs": [
        {
          "data": {
            "text/plain": "[0, 1, 2, 3, 4, 5, 6, -6, -7, 7, -8, 8, -9, 9, -10]"
          },
          "metadata": {},
          "output_type": "execute_result",
          "execution_count": 5
        }
      ],
      "source": "sorted(x, key\u003dabs)",
      "metadata": {
        "pycharm": {
          "metadata": false,
          "name": "#%%\n",
          "is_executing": false
        }
      }
    },
    {
      "cell_type": "code",
      "execution_count": 6,
      "outputs": [
        {
          "name": "stdout",
          "text": [
            "[\u0027Cutter\u0027, \u0027ketch\u0027, \u0027schooner\u0027, \u0027Sloop\u0027, \u0027Yawl\u0027]\n"
          ],
          "output_type": "stream"
        }
      ],
      "source": "x \u003d [\u0027Sloop\u0027, \u0027Yawl\u0027, \u0027Cutter\u0027, \u0027schooner\u0027, \u0027ketch\u0027]\nx \u003d sorted(x, key\u003dstr.lower)\nprint(x)",
      "metadata": {
        "pycharm": {
          "metadata": false,
          "name": "#%%\n",
          "is_executing": false
        }
      }
    },
    {
      "cell_type": "code",
      "execution_count": 10,
      "outputs": [
        {
          "name": "stdout",
          "text": [
            "[\u0027Cutter\u0027, \u0027ketch\u0027, \u0027schooner\u0027, \u0027Sloop\u0027, \u0027Yawl\u0027]\n"
          ],
          "output_type": "stream"
        }
      ],
      "source": "x \u003d [\u0027Sloop\u0027, \u0027Yawl\u0027, \u0027Cutter\u0027, \u0027schooner\u0027, \u0027ketch\u0027]\ntemp \u003d []\nfor item in x:\n    temp.append((item.lower(), item))\nx \u003d []\nfor key, value in sorted(temp):\n    x.append(value)\nprint(x)",
      "metadata": {
        "pycharm": {
          "metadata": false,
          "name": "#%%\n",
          "is_executing": false
        }
      }
    },
    {
      "cell_type": "code",
      "execution_count": 11,
      "outputs": [
        {
          "data": {
            "text/plain": "[(1, \u0027pram\u0027), (3, \u0027dorie\u0027), (1, \u0027kayak\u0027), (3, \u0027canoe\u0027)]"
          },
          "metadata": {},
          "output_type": "execute_result",
          "execution_count": 11
        }
      ],
      "source": "x \u003d list(zip((1, 3, 1, 3), (\u0027pram\u0027, \u0027dorie\u0027, \u0027kayak\u0027, \u0027canoe\u0027)))\nx",
      "metadata": {
        "pycharm": {
          "metadata": false,
          "name": "#%%\n",
          "is_executing": false
        }
      }
    },
    {
      "cell_type": "code",
      "execution_count": 12,
      "outputs": [
        {
          "data": {
            "text/plain": "[(1, \u0027kayak\u0027), (1, \u0027pram\u0027), (3, \u0027canoe\u0027), (3, \u0027dorie\u0027)]"
          },
          "metadata": {},
          "output_type": "execute_result",
          "execution_count": 12
        }
      ],
      "source": "sorted(x)",
      "metadata": {
        "pycharm": {
          "metadata": false,
          "name": "#%%\n",
          "is_executing": false
        }
      }
    },
    {
      "cell_type": "code",
      "execution_count": 17,
      "outputs": [
        {
          "data": {
            "text/plain": "[(3, \u0027canoe\u0027), (3, \u0027dorie\u0027), (1, \u0027kayak\u0027), (1, \u0027pram\u0027)]"
          },
          "metadata": {},
          "output_type": "execute_result",
          "execution_count": 17
        }
      ],
      "source": "def swap(t):\n    return t[1], t[0]\nsorted(x, key\u003dswap)",
      "metadata": {
        "pycharm": {
          "metadata": false,
          "name": "#%%\n",
          "is_executing": false
        }
      }
    },
    {
      "cell_type": "markdown",
      "source": "Копирование коллекций\n",
      "metadata": {
        "pycharm": {
          "metadata": false
        }
      }
    },
    {
      "cell_type": "code",
      "execution_count": 18,
      "outputs": [
        {
          "data": {
            "text/plain": "([\u0027Because\u0027, \u0027Boys\u0027, \u0027Carol\u0027], [\u0027Because\u0027, \u0027Boys\u0027, \u0027Carol\u0027])"
          },
          "metadata": {},
          "output_type": "execute_result",
          "execution_count": 18
        }
      ],
      "source": "songs \u003d [\u0027Because\u0027, \u0027Boys\u0027, \u0027Carol\u0027]\nbeatles \u003d songs\nbeatles, songs",
      "metadata": {
        "pycharm": {
          "metadata": false,
          "name": "#%%\n",
          "is_executing": false
        }
      }
    },
    {
      "cell_type": "code",
      "execution_count": 19,
      "outputs": [
        {
          "data": {
            "text/plain": "([\u0027Because\u0027, \u0027Boys\u0027, \u0027Cayenne\u0027], [\u0027Because\u0027, \u0027Boys\u0027, \u0027Cayenne\u0027])"
          },
          "metadata": {},
          "output_type": "execute_result",
          "execution_count": 19
        }
      ],
      "source": "beatles[2] \u003d \u0027Cayenne\u0027\nbeatles, songs",
      "metadata": {
        "pycharm": {
          "metadata": false,
          "name": "#%%\n",
          "is_executing": false
        }
      }
    },
    {
      "cell_type": "code",
      "execution_count": 20,
      "outputs": [
        {
          "data": {
            "text/plain": "([\u0027Because\u0027, \u0027Boys\u0027, \u0027Cayenne\u0027], [\u0027Because\u0027, \u0027Boys\u0027, \u0027Carol\u0027])"
          },
          "metadata": {},
          "output_type": "execute_result",
          "execution_count": 20
        }
      ],
      "source": "songs \u003d [\u0027Because\u0027, \u0027Boys\u0027, \u0027Carol\u0027]\nbeatles \u003d songs[:]\nbeatles[2] \u003d \u0027Cayenne\u0027\nbeatles, songs",
      "metadata": {
        "pycharm": {
          "metadata": false,
          "name": "#%%\n",
          "is_executing": false
        }
      }
    },
    {
      "cell_type": "code",
      "execution_count": 21,
      "outputs": [
        {
          "data": {
            "text/plain": "([\u0027Because\u0027, \u0027Boys\u0027, \u0027Cayenne\u0027], [\u0027Because\u0027, \u0027Boys\u0027, \u0027Carol\u0027])"
          },
          "metadata": {},
          "output_type": "execute_result",
          "execution_count": 21
        }
      ],
      "source": "songs \u003d [\u0027Because\u0027, \u0027Boys\u0027, \u0027Carol\u0027]\nbeatles \u003d songs.copy()\nbeatles[2] \u003d \u0027Cayenne\u0027\nbeatles, songs",
      "metadata": {
        "pycharm": {
          "metadata": false,
          "name": "#%%\n",
          "is_executing": false
        }
      }
    },
    {
      "cell_type": "code",
      "execution_count": 22,
      "outputs": [
        {
          "data": {
            "text/plain": "([\u0027Because\u0027, \u0027Boys\u0027, \u0027Cayenne\u0027], [\u0027Because\u0027, \u0027Boys\u0027, \u0027Carol\u0027])"
          },
          "metadata": {},
          "output_type": "execute_result",
          "execution_count": 22
        }
      ],
      "source": "import copy\nsongs \u003d [\u0027Because\u0027, \u0027Boys\u0027, \u0027Carol\u0027]\nbeatles \u003d copy.copy(songs)\nbeatles[2] \u003d \u0027Cayenne\u0027\nbeatles, songs",
      "metadata": {
        "pycharm": {
          "metadata": false,
          "name": "#%%\n",
          "is_executing": false
        }
      }
    },
    {
      "cell_type": "code",
      "execution_count": 28,
      "outputs": [],
      "source": "d \u003d dict(a\u003d2, b\u003d3)\nL \u003d list((1,2,3))\ns \u003d set((1,2,3))",
      "metadata": {
        "pycharm": {
          "metadata": false,
          "name": "#%%\n",
          "is_executing": false
        }
      }
    },
    {
      "cell_type": "code",
      "execution_count": 31,
      "outputs": [
        {
          "data": {
            "text/plain": "({\u0027a\u0027: 2, \u0027b\u0027: 3}, [1, 2, 3], {1, 2, 3})"
          },
          "metadata": {},
          "output_type": "execute_result",
          "execution_count": 31
        }
      ],
      "source": "copy_of_dict_d \u003d dict(d)\ncopy_of_ist_L \u003d list(L)\ncopy_of_set_s \u003d set(s)\nd, L, s",
      "metadata": {
        "pycharm": {
          "metadata": false,
          "name": "#%%\n",
          "is_executing": false
        }
      }
    },
    {
      "cell_type": "code",
      "execution_count": 32,
      "outputs": [
        {
          "data": {
            "text/plain": "([53, 68, [\u0027A\u0027, \u0027B\u0027, \u0027C\u0027]], [53, 68, [\u0027A\u0027, \u0027B\u0027, \u0027C\u0027]])"
          },
          "metadata": {},
          "output_type": "execute_result",
          "execution_count": 32
        }
      ],
      "source": "x \u003d [53, 68, [\u0027A\u0027, \u0027B\u0027, \u0027C\u0027]]\nx \u003d [53, 68, [\u0027A\u0027, \u0027B\u0027, \u0027C\u0027]]\ny \u003d x[:]\nx, y",
      "metadata": {
        "pycharm": {
          "metadata": false,
          "name": "#%%\n",
          "is_executing": false
        }
      }
    },
    {
      "cell_type": "code",
      "execution_count": null,
      "outputs": [],
      "source": "y[1] \u003d 40\nx[2][0] \u003d \u0027Q\u0027\nx, y",
      "metadata": {
        "pycharm": {
          "metadata": false,
          "name": "#%%\n"
        }
      }
    },
    {
      "cell_type": "code",
      "execution_count": 36,
      "outputs": [
        {
          "data": {
            "text/plain": "([53, 68, [\u0027Q\u0027, \u0027B\u0027, \u0027C\u0027]], [53, 40, [\u0027A\u0027, \u0027B\u0027, \u0027C\u0027]])"
          },
          "metadata": {},
          "output_type": "execute_result",
          "execution_count": 36
        }
      ],
      "source": "x \u003d [53, 68, [\u0027A\u0027, \u0027B\u0027, \u0027C\u0027]]\nx \u003d [53, 68, [\u0027A\u0027, \u0027B\u0027, \u0027C\u0027]]\ny \u003d copy.deepcopy(x)\ny[1] \u003d 40\nx[2][0] \u003d \u0027Q\u0027\nx, y\n",
      "metadata": {
        "pycharm": {
          "metadata": false,
          "name": "#%%\n",
          "is_executing": false
        }
      }
    },
    {
      "cell_type": "code",
      "execution_count": null,
      "outputs": [],
      "source": "\n",
      "metadata": {
        "pycharm": {
          "metadata": false,
          "name": "#%%\n"
        }
      }
    }
  ],
  "metadata": {
    "language_info": {
      "codemirror_mode": {
        "name": "ipython",
        "version": 2
      },
      "file_extension": ".py",
      "mimetype": "text/x-python",
      "name": "python",
      "nbconvert_exporter": "python",
      "pygments_lexer": "ipython2",
      "version": "2.7.6"
    },
    "kernelspec": {
      "name": "python3",
      "language": "python",
      "display_name": "Python 3"
    },
    "stem_cell": {
      "cell_type": "raw",
      "source": "",
      "metadata": {
        "pycharm": {
          "metadata": false
        }
      }
    }
  },
  "nbformat": 4,
  "nbformat_minor": 0
}