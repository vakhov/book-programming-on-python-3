{
  "cells": [
    {
      "cell_type": "code",
      "execution_count": 1,
      "outputs": [
        {
          "data": {
            "text/plain": "False"
          },
          "metadata": {},
          "output_type": "execute_result",
          "execution_count": 1
        }
      ],
      "source": "t \u003d True\nf \u003d False\nt and f",
      "metadata": {
        "pycharm": {
          "metadata": false,
          "name": "#%%\n",
          "is_executing": false
        }
      }
    },
    {
      "cell_type": "code",
      "execution_count": 2,
      "outputs": [
        {
          "data": {
            "text/plain": "True"
          },
          "metadata": {},
          "output_type": "execute_result",
          "execution_count": 2
        }
      ],
      "source": "t and True",
      "metadata": {
        "pycharm": {
          "metadata": false,
          "name": "#%%\n",
          "is_executing": false
        }
      }
    },
    {
      "cell_type": "code",
      "execution_count": null,
      "outputs": [],
      "source": "",
      "metadata": {
        "pycharm": {
          "metadata": false,
          "name": "#%%\n"
        }
      }
    },
    {
      "cell_type": "markdown",
      "source": "Операторы с плавающей точкой",
      "metadata": {
        "pycharm": {
          "metadata": false
        }
      }
    },
    {
      "cell_type": "code",
      "execution_count": null,
      "outputs": [],
      "source": "4 / 3",
      "metadata": {
        "pycharm": {
          "metadata": false,
          "name": "#%%\n"
        }
      }
    },
    {
      "cell_type": "code",
      "execution_count": null,
      "outputs": [],
      "source": "0.1 + 0.1 + 0.1",
      "metadata": {
        "pycharm": {
          "metadata": false,
          "name": "#%%\n"
        }
      }
    },
    {
      "cell_type": "code",
      "execution_count": 21,
      "outputs": [
        {
          "data": {
            "text/plain": "Decimal(\u00270.3\u0027)"
          },
          "metadata": {},
          "output_type": "execute_result",
          "execution_count": 21
        }
      ],
      "source": "import decimal\ndecimal.Decimal(\u00270.1\u0027) + decimal.Decimal(\u00270.1\u0027) + decimal.Decimal(\u00270.1\u0027)",
      "metadata": {
        "pycharm": {
          "metadata": false,
          "name": "#%%\n",
          "is_executing": false
        }
      }
    },
    {
      "cell_type": "code",
      "execution_count": 15,
      "outputs": [],
      "source": "import sys\ndef equal_float(a, b):\n    return abs(a - b) \u003c\u003d sys.float_info.epsilon",
      "metadata": {
        "pycharm": {
          "metadata": false,
          "name": "#%%\n",
          "is_executing": false
        }
      }
    },
    {
      "cell_type": "code",
      "execution_count": 25,
      "outputs": [
        {
          "data": {
            "text/plain": "True"
          },
          "metadata": {},
          "output_type": "execute_result",
          "execution_count": 25
        }
      ],
      "source": "equal_float(3.55454554545545455454554545545455454554545545455454554545545455454, 3.554545545455454554545545455454554545545455454554545545455454554642)",
      "metadata": {
        "pycharm": {
          "metadata": false,
          "name": "#%%\n",
          "is_executing": false
        }
      }
    },
    {
      "cell_type": "code",
      "execution_count": 26,
      "outputs": [],
      "source": "f \u003d 3.54334",
      "metadata": {
        "pycharm": {
          "metadata": false,
          "name": "#%%\n",
          "is_executing": false
        }
      }
    },
    {
      "cell_type": "code",
      "execution_count": 28,
      "outputs": [
        {
          "data": {
            "text/plain": "3"
          },
          "metadata": {},
          "output_type": "execute_result",
          "execution_count": 28
        }
      ],
      "source": "int(f)",
      "metadata": {
        "pycharm": {
          "metadata": false,
          "name": "#%%\n",
          "is_executing": false
        }
      }
    },
    {
      "cell_type": "code",
      "execution_count": 29,
      "outputs": [
        {
          "data": {
            "text/plain": "4"
          },
          "metadata": {},
          "output_type": "execute_result",
          "execution_count": 29
        }
      ],
      "source": "round(f)",
      "metadata": {
        "pycharm": {
          "metadata": false,
          "name": "#%%\n",
          "is_executing": false
        }
      }
    },
    {
      "cell_type": "code",
      "execution_count": 30,
      "outputs": [],
      "source": "import math",
      "metadata": {
        "pycharm": {
          "metadata": false,
          "name": "#%%\n",
          "is_executing": false
        }
      }
    },
    {
      "cell_type": "code",
      "execution_count": 31,
      "outputs": [
        {
          "data": {
            "text/plain": "3"
          },
          "metadata": {},
          "output_type": "execute_result",
          "execution_count": 31
        }
      ],
      "source": "math.floor(f)",
      "metadata": {
        "pycharm": {
          "metadata": false,
          "name": "#%%\n",
          "is_executing": false
        }
      }
    },
    {
      "cell_type": "code",
      "execution_count": 32,
      "outputs": [
        {
          "data": {
            "text/plain": "4"
          },
          "metadata": {},
          "output_type": "execute_result",
          "execution_count": 32
        }
      ],
      "source": "math.ceil(f)",
      "metadata": {
        "pycharm": {
          "metadata": false,
          "name": "#%%\n",
          "is_executing": false
        }
      }
    },
    {
      "cell_type": "code",
      "execution_count": 33,
      "outputs": [
        {
          "name": "stdout",
          "text": [
            "Help on float_info object:\n\nclass float_info(builtins.tuple)\n |  float_info(iterable\u003d(), /)\n |  \n |  sys.float_info\n |  \n |  A structseq holding information about the float type. It contains low level\n |  information about the precision and internal representation. Please study\n |  your system\u0027s :file:`float.h` for more information.\n |  \n |  Method resolution order:\n |      float_info\n |      builtins.tuple\n |      builtins.object\n |  \n |  Methods defined here:\n |  \n |  __reduce__(...)\n |      Helper for pickle.\n |  \n |  __repr__(self, /)\n |      Return repr(self).\n |  \n |  ----------------------------------------------------------------------\n |  Static methods defined here:\n |  \n |  __new__(*args, **kwargs) from builtins.type\n |      Create and return a new object.  See help(type) for accurate signature.\n |  \n |  ----------------------------------------------------------------------\n |  Data descriptors defined here:\n |  \n |  dig\n |      DBL_DIG -- digits\n |  \n |  epsilon\n |      DBL_EPSILON -- Difference between 1 and the next representable float\n |  \n |  mant_dig\n |      DBL_MANT_DIG -- mantissa digits\n |  \n |  max\n |      DBL_MAX -- maximum representable finite float\n |  \n |  max_10_exp\n |      DBL_MAX_10_EXP -- maximum int e such that 10**e is representable\n |  \n |  max_exp\n |      DBL_MAX_EXP -- maximum int e such that radix**(e-1) is representable\n |  \n |  min\n |      DBL_MIN -- Minimum positive normalized float\n |  \n |  min_10_exp\n |      DBL_MIN_10_EXP -- minimum int e such that 10**e is a normalized\n |  \n |  min_exp\n |      DBL_MIN_EXP -- minimum int e such that radix**(e-1) is a normalized float\n |  \n |  radix\n |      FLT_RADIX -- radix of exponent\n |  \n |  rounds\n |      FLT_ROUNDS -- rounding mode\n |  \n |  ----------------------------------------------------------------------\n |  Data and other attributes defined here:\n |  \n |  n_fields \u003d 11\n |  \n |  n_sequence_fields \u003d 11\n |  \n |  n_unnamed_fields \u003d 0\n |  \n |  ----------------------------------------------------------------------\n |  Methods inherited from builtins.tuple:\n |  \n |  __add__(self, value, /)\n |      Return self+value.\n |  \n |  __contains__(self, key, /)\n |      Return key in self.\n |  \n |  __eq__(self, value, /)\n |      Return self\u003d\u003dvalue.\n |  \n |  __ge__(self, value, /)\n |      Return self\u003e\u003dvalue.\n |  \n |  __getattribute__(self, name, /)\n |      Return getattr(self, name).\n |  \n |  __getitem__(self, key, /)\n |      Return self[key].\n |  \n |  __getnewargs__(self, /)\n |  \n |  __gt__(self, value, /)\n |      Return self\u003evalue.\n |  \n |  __hash__(self, /)\n |      Return hash(self).\n |  \n |  __iter__(self, /)\n |      Implement iter(self).\n |  \n |  __le__(self, value, /)\n |      Return self\u003c\u003dvalue.\n |  \n |  __len__(self, /)\n |      Return len(self).\n |  \n |  __lt__(self, value, /)\n |      Return self\u003cvalue.\n |  \n |  __mul__(self, value, /)\n |      Return self*value.\n |  \n |  __ne__(self, value, /)\n |      Return self!\u003dvalue.\n |  \n |  __rmul__(self, value, /)\n |      Return value*self.\n |  \n |  count(self, value, /)\n |      Return number of occurrences of value.\n |  \n |  index(self, value, start\u003d0, stop\u003d9223372036854775807, /)\n |      Return first index of value.\n |      \n |      Raises ValueError if the value is not present.\n\n"
          ],
          "output_type": "stream"
        }
      ],
      "source": "help(sys.float_info)",
      "metadata": {
        "pycharm": {
          "metadata": false,
          "name": "#%%\n",
          "is_executing": false
        }
      }
    },
    {
      "cell_type": "code",
      "execution_count": 34,
      "outputs": [
        {
          "name": "stdout",
          "text": [
            "sys.float_info(max\u003d1.7976931348623157e+308, max_exp\u003d1024, max_10_exp\u003d308, min\u003d2.2250738585072014e-308, min_exp\u003d-1021, min_10_exp\u003d-307, dig\u003d15, mant_dig\u003d53, epsilon\u003d2.220446049250313e-16, radix\u003d2, rounds\u003d1)\n"
          ],
          "output_type": "stream"
        }
      ],
      "source": "print(sys.float_info)",
      "metadata": {
        "pycharm": {
          "metadata": false,
          "name": "#%%\n",
          "is_executing": false
        }
      }
    },
    {
      "cell_type": "code",
      "execution_count": 35,
      "outputs": [
        {
          "data": {
            "text/plain": "False"
          },
          "metadata": {},
          "output_type": "execute_result",
          "execution_count": 35
        }
      ],
      "source": "float.is_integer(f)",
      "metadata": {
        "pycharm": {
          "metadata": false,
          "name": "#%%\n",
          "is_executing": false
        }
      }
    },
    {
      "cell_type": "code",
      "execution_count": 36,
      "outputs": [
        {
          "data": {
            "text/plain": "True"
          },
          "metadata": {},
          "output_type": "execute_result",
          "execution_count": 36
        }
      ],
      "source": "float.is_integer(4.0)",
      "metadata": {
        "pycharm": {
          "metadata": false,
          "name": "#%%\n",
          "is_executing": false
        }
      }
    },
    {
      "cell_type": "code",
      "execution_count": 3,
      "outputs": [
        {
          "data": {
            "text/plain": "(11, 4)"
          },
          "metadata": {},
          "output_type": "execute_result",
          "execution_count": 3
        }
      ],
      "source": "x \u003d 2.75\nfloat.as_integer_ratio(x)",
      "metadata": {
        "pycharm": {
          "metadata": false,
          "name": "#%%\n",
          "is_executing": false
        }
      }
    },
    {
      "cell_type": "code",
      "execution_count": 5,
      "outputs": [
        {
          "data": {
            "text/plain": "(3, 2)"
          },
          "metadata": {},
          "output_type": "execute_result",
          "execution_count": 5
        }
      ],
      "source": "x \u003d 1.5\nfloat.as_integer_ratio(x)",
      "metadata": {
        "pycharm": {
          "metadata": false,
          "name": "#%%\n",
          "is_executing": false
        }
      }
    },
    {
      "cell_type": "code",
      "execution_count": 6,
      "outputs": [
        {
          "data": {
            "text/plain": "(4015747197735587, 1125899906842624)"
          },
          "metadata": {},
          "output_type": "execute_result",
          "execution_count": 6
        }
      ],
      "source": "x \u003d 3.5667\nfloat.as_integer_ratio(x)",
      "metadata": {
        "pycharm": {
          "metadata": false,
          "name": "#%%\n",
          "is_executing": false
        }
      }
    },
    {
      "cell_type": "markdown",
      "source": "Представление чисел с плавающей точко в 16 формате",
      "metadata": {
        "pycharm": {
          "metadata": false
        }
      }
    },
    {
      "cell_type": "code",
      "execution_count": 8,
      "outputs": [
        {
          "name": "stdout",
          "text": [
            "0x1.c7ae147ae147bp+3\n"
          ],
          "output_type": "stream"
        }
      ],
      "source": "s \u003d 14.24.hex()\nprint(s)",
      "metadata": {
        "pycharm": {
          "metadata": false,
          "name": "#%%\n",
          "is_executing": false
        }
      }
    },
    {
      "cell_type": "code",
      "execution_count": 10,
      "outputs": [
        {
          "name": "stdout",
          "text": [
            "14.24\n"
          ],
          "output_type": "stream"
        }
      ],
      "source": "f \u003d float.fromhex(s)\nprint(f)",
      "metadata": {
        "pycharm": {
          "metadata": false,
          "name": "#%%\n",
          "is_executing": false
        }
      }
    },
    {
      "cell_type": "code",
      "execution_count": 11,
      "outputs": [
        {
          "data": {
            "text/plain": "\u00270x1.c7ae147ae147bp+3\u0027"
          },
          "metadata": {},
          "output_type": "execute_result",
          "execution_count": 11
        }
      ],
      "source": "t \u003d f.hex()\nt",
      "metadata": {
        "pycharm": {
          "metadata": false,
          "name": "#%%\n",
          "is_executing": false
        }
      }
    },
    {
      "cell_type": "code",
      "execution_count": 12,
      "outputs": [
        {
          "data": {
            "text/plain": "78.53981633974483"
          },
          "metadata": {},
          "output_type": "execute_result",
          "execution_count": 12
        }
      ],
      "source": "import math\nmath.pi * (5 ** 2)",
      "metadata": {
        "pycharm": {
          "metadata": false,
          "name": "#%%\n",
          "is_executing": false
        }
      }
    },
    {
      "cell_type": "code",
      "execution_count": 13,
      "outputs": [
        {
          "data": {
            "text/plain": "13.0"
          },
          "metadata": {},
          "output_type": "execute_result",
          "execution_count": 13
        }
      ],
      "source": "math.hypot(5, 12)  # Вычисление расстояние от начала координат до этих точек",
      "metadata": {
        "pycharm": {
          "metadata": false,
          "name": "#%%\n",
          "is_executing": false
        }
      }
    },
    {
      "cell_type": "code",
      "execution_count": 15,
      "outputs": [
        {
          "data": {
            "text/plain": "13.0"
          },
          "metadata": {},
          "output_type": "execute_result",
          "execution_count": 15
        }
      ],
      "source": "math.sqrt((5 ** 2) + (12 ** 2))  # То же что и верхнее выражение",
      "metadata": {
        "pycharm": {
          "metadata": false,
          "name": "#%%\n",
          "is_executing": false
        }
      }
    },
    {
      "cell_type": "code",
      "execution_count": 16,
      "outputs": [
        {
          "data": {
            "text/plain": "(0.7319999999999993, 13.0)"
          },
          "metadata": {},
          "output_type": "execute_result",
          "execution_count": 16
        }
      ],
      "source": "math.modf(13.732)",
      "metadata": {
        "pycharm": {
          "metadata": false,
          "name": "#%%\n",
          "is_executing": false
        }
      }
    },
    {
      "cell_type": "code",
      "execution_count": 19,
      "outputs": [
        {
          "data": {
            "text/plain": "1.2999999999999998"
          },
          "metadata": {},
          "output_type": "execute_result",
          "execution_count": 19
        }
      ],
      "source": "math.fmod(7.3, 3)",
      "metadata": {
        "pycharm": {
          "metadata": false,
          "name": "#%%\n",
          "is_executing": false
        }
      }
    },
    {
      "cell_type": "code",
      "execution_count": 20,
      "outputs": [
        {
          "data": {
            "text/plain": "1.2999999999999998"
          },
          "metadata": {},
          "output_type": "execute_result",
          "execution_count": 20
        }
      ],
      "source": "7.3 % 3",
      "metadata": {
        "pycharm": {
          "metadata": false,
          "name": "#%%\n",
          "is_executing": false
        }
      }
    },
    {
      "cell_type": "code",
      "execution_count": 22,
      "outputs": [
        {
          "data": {
            "text/plain": "21.904761904761905"
          },
          "metadata": {},
          "output_type": "execute_result",
          "execution_count": 22
        }
      ],
      "source": "23 / 1.05",
      "metadata": {
        "pycharm": {
          "metadata": false,
          "name": "#%%\n",
          "is_executing": false
        }
      }
    },
    {
      "cell_type": "code",
      "execution_count": 23,
      "outputs": [
        {
          "name": "stdout",
          "text": [
            "21.904761904761905\n"
          ],
          "output_type": "stream"
        }
      ],
      "source": "print(23 / 1.05)",
      "metadata": {
        "pycharm": {
          "metadata": false,
          "name": "#%%\n",
          "is_executing": false
        }
      }
    },
    {
      "cell_type": "code",
      "execution_count": 24,
      "outputs": [
        {
          "name": "stdout",
          "text": [
            "21.90476190476190476190476190\n"
          ],
          "output_type": "stream"
        }
      ],
      "source": "print(decimal.Decimal(23) / decimal.Decimal(\u00271.05\u0027))",
      "metadata": {
        "pycharm": {
          "metadata": false,
          "name": "#%%\n",
          "is_executing": false
        }
      }
    },
    {
      "cell_type": "code",
      "execution_count": 25,
      "outputs": [
        {
          "data": {
            "text/plain": "Decimal(\u002721.90476190476190476190476190\u0027)"
          },
          "metadata": {},
          "output_type": "execute_result",
          "execution_count": 25
        }
      ],
      "source": "decimal.Decimal(23) / decimal.Decimal(\u00271.05\u0027)",
      "metadata": {
        "pycharm": {
          "metadata": false,
          "name": "#%%\n",
          "is_executing": false
        }
      }
    },
    {
      "cell_type": "code",
      "execution_count": 28,
      "outputs": [
        {
          "name": "stdout",
          "text": [
            "123\n"
          ],
          "output_type": "stream"
        }
      ],
      "source": "s \u003d str(123)\nprint(s)",
      "metadata": {
        "pycharm": {
          "metadata": false,
          "name": "#%%\n",
          "is_executing": false
        }
      }
    },
    {
      "cell_type": "code",
      "execution_count": 29,
      "outputs": [
        {
          "data": {
            "text/plain": "\u00271\u0027"
          },
          "metadata": {},
          "output_type": "execute_result",
          "execution_count": 29
        }
      ],
      "source": "s[0]",
      "metadata": {
        "pycharm": {
          "metadata": false,
          "name": "#%%\n",
          "is_executing": false
        }
      }
    },
    {
      "cell_type": "code",
      "execution_count": 30,
      "outputs": [
        {
          "traceback": [
            "\u001b[0;31m---------------------------------------------------------------------------\u001b[0m",
            "\u001b[0;31mTypeError\u001b[0m                                 Traceback (most recent call last)",
            "\u001b[0;32m\u003cipython-input-30-f6f551302ac4\u003e\u001b[0m in \u001b[0;36m\u003cmodule\u003e\u001b[0;34m\u001b[0m\n\u001b[0;32m----\u003e 1\u001b[0;31m \u001b[0ms\u001b[0m\u001b[0;34m[\u001b[0m\u001b[0;36m0\u001b[0m\u001b[0;34m]\u001b[0m \u001b[0;34m\u003d\u001b[0m \u001b[0;36m1\u001b[0m\u001b[0;34m\u001b[0m\u001b[0;34m\u001b[0m\u001b[0m\n\u001b[0m",
            "\u001b[0;31mTypeError\u001b[0m: \u0027str\u0027 object does not support item assignment"
          ],
          "ename": "TypeError",
          "evalue": "\u0027str\u0027 object does not support item assignment",
          "output_type": "error"
        }
      ],
      "source": "s[0] \u003d 1  # не изменяемый тип",
      "metadata": {
        "pycharm": {
          "metadata": false,
          "name": "#%%\n",
          "is_executing": false
        }
      }
    },
    {
      "cell_type": "code",
      "execution_count": 31,
      "outputs": [
        {
          "data": {
            "text/plain": "\u0027\u0027"
          },
          "metadata": {},
          "output_type": "execute_result",
          "execution_count": 31
        }
      ],
      "source": "str()",
      "metadata": {
        "pycharm": {
          "metadata": false,
          "name": "#%%\n",
          "is_executing": false
        }
      }
    },
    {
      "cell_type": "code",
      "execution_count": 34,
      "outputs": [
        {
          "data": {
            "text/plain": "\u0027С другой стороны реализация намеченных плановых заданий позволяет оценить значение дальнейших направлений развития. Повседневная практика показывает, что начало повседневной работы по формированию позиции представляет собой интересный эксперимент проверки позиций, занимаемых участниками в отношении поставленных задач. Таким образом рамки и место обучения кадров влечет за собой процесс внедрения и модернизации новых предложений. Товарищи! сложившаяся структура организации требуют от нас анализа существенных финансовых и административных условий.\u0027"
          },
          "metadata": {},
          "output_type": "execute_result",
          "execution_count": 34
        }
      ],
      "source": "s_long1 \u003d \"С другой стороны реализация намеченных плановых заданий позволяет оценить значение дальнейших направлений \" \\\n    \"развития. Повседневная практика показывает, что начало повседневной работы по формированию позиции представляет \" \\\n    \"собой интересный эксперимент проверки позиций, занимаемых участниками в отношении поставленных задач. \" \\\n    \"Таким образом рамки и место обучения кадров влечет за собой процесс внедрения и модернизации новых предложений. \" \\\n    \"Товарищи! сложившаяся структура организации требуют от нас анализа существенных финансовых и \" \\\n    \"административных условий.\"\ns_long1",
      "metadata": {
        "pycharm": {
          "metadata": false,
          "name": "#%%\n",
          "is_executing": false
        }
      }
    },
    {
      "cell_type": "code",
      "execution_count": 35,
      "outputs": [
        {
          "data": {
            "text/plain": "\u0027С другой стороны реализация намеченных плановых заданий позволяет оценить значение дальнейших направлений развития. Повседневная практика показывает, что начало повседневной работы по формированию позиции представляет собой интересный эксперимент проверки позиций, занимаемых участниками в отношении поставленных задач. Таким образом рамки и место обучения кадров влечет за собой процесс внедрения и модернизации новых предложений. Товарищи! сложившаяся структура организации требуют от нас анализа существенных финансовых и административных условий.\u0027"
          },
          "metadata": {},
          "output_type": "execute_result",
          "execution_count": 35
        }
      ],
      "source": "s_long2 \u003d (\u0027С другой стороны реализация намеченных плановых заданий позволяет оценить значение дальнейших направлений \u0027\n           \u0027развития. Повседневная практика показывает, что начало повседневной работы по формированию позиции \u0027\n           \u0027представляет собой интересный эксперимент проверки позиций, занимаемых участниками в отношении поставленных\u0027\n           \u0027 задач. Таким образом рамки и место обучения кадров влечет за собой процесс внедрения и модернизации \u0027\n           \u0027новых предложений. Товарищи! сложившаяся структура организации требуют от нас анализа существенных\u0027\n           \u0027 финансовых и административных условий.\u0027)\ns_long2",
      "metadata": {
        "pycharm": {
          "metadata": false,
          "name": "#%%\n",
          "is_executing": false
        }
      }
    },
    {
      "cell_type": "markdown",
      "source": "В приведёных выше примерах, второй вариант разбиения длинной строки, с использованием скобок, предпочтительней",
      "metadata": {
        "pycharm": {
          "metadata": false
        }
      }
    },
    {
      "cell_type": "code",
      "execution_count": 37,
      "outputs": [
        {
          "data": {
            "text/plain": "\u0027€ € €\u0027"
          },
          "metadata": {},
          "output_type": "execute_result",
          "execution_count": 37
        }
      ],
      "source": "euros \u003d \"\\N{euro sign} \\u20AC \\U000020AC\"\neuros",
      "metadata": {
        "pycharm": {
          "metadata": false,
          "name": "#%%\n",
          "is_executing": false
        }
      }
    },
    {
      "cell_type": "code",
      "execution_count": 38,
      "outputs": [
        {
          "data": {
            "text/plain": "8364"
          },
          "metadata": {},
          "output_type": "execute_result",
          "execution_count": 38
        }
      ],
      "source": "ord(euros[0])",
      "metadata": {
        "pycharm": {
          "metadata": false,
          "name": "#%%\n",
          "is_executing": false
        }
      }
    },
    {
      "cell_type": "code",
      "execution_count": 39,
      "outputs": [
        {
          "data": {
            "text/plain": "\u00270x20ac\u0027"
          },
          "metadata": {},
          "output_type": "execute_result",
          "execution_count": 39
        }
      ],
      "source": "hex(ord(euros[0]))",
      "metadata": {
        "pycharm": {
          "metadata": false,
          "name": "#%%\n",
          "is_executing": false
        }
      }
    },
    {
      "cell_type": "code",
      "execution_count": 41,
      "outputs": [
        {
          "data": {
            "text/plain": "5.004415755000082"
          },
          "metadata": {},
          "output_type": "execute_result",
          "execution_count": 41
        }
      ],
      "source": "import time\nt \u003d time.monotonic()\ntime.sleep(5)\ntime.monotonic()-t",
      "metadata": {
        "pycharm": {
          "metadata": false,
          "name": "#%%\n",
          "is_executing": false
        }
      }
    },
    {
      "cell_type": "code",
      "execution_count": 48,
      "outputs": [
        {
          "data": {
            "text/plain": "11"
          },
          "metadata": {},
          "output_type": "execute_result",
          "execution_count": 48
        }
      ],
      "source": "len(\u0027test string\u0027)",
      "metadata": {
        "pycharm": {
          "metadata": false,
          "name": "#%%\n",
          "is_executing": false
        }
      }
    },
    {
      "cell_type": "code",
      "execution_count": 51,
      "outputs": [
        {
          "data": {
            "text/plain": "\u0027Test string\u0027"
          },
          "metadata": {},
          "output_type": "execute_result",
          "execution_count": 51
        }
      ],
      "source": "s_test \u003d \u0027test string\u0027\ns_test.capitalize()",
      "metadata": {
        "pycharm": {
          "metadata": false,
          "name": "#%%\n",
          "is_executing": false
        }
      }
    },
    {
      "cell_type": "code",
      "execution_count": 52,
      "outputs": [
        {
          "data": {
            "text/plain": "\u0027Test String\u0027"
          },
          "metadata": {},
          "output_type": "execute_result",
          "execution_count": 52
        }
      ],
      "source": "str.title(s_test)",
      "metadata": {
        "pycharm": {
          "metadata": false,
          "name": "#%%\n",
          "is_executing": false
        }
      }
    },
    {
      "cell_type": "code",
      "execution_count": 56,
      "outputs": [
        {
          "data": {
            "text/plain": "\u0027\u003e\u003e\u003e\u003etest string\u003e\u003e\u003e\u003e\u003e\u0027"
          },
          "metadata": {},
          "output_type": "execute_result",
          "execution_count": 56
        }
      ],
      "source": "s_test.center(20, \u0027\u003e\u0027)",
      "metadata": {
        "pycharm": {
          "metadata": false,
          "name": "#%%\n",
          "is_executing": false
        }
      }
    },
    {
      "cell_type": "code",
      "execution_count": 58,
      "outputs": [
        {
          "data": {
            "text/plain": "\u0027test string\u003e\u003e\u003e\u003e\u003e\u003e\u003e\u003e\u003e\u0027"
          },
          "metadata": {},
          "output_type": "execute_result",
          "execution_count": 58
        }
      ],
      "source": "s_test.ljust(20, \u0027\u003e\u0027)",
      "metadata": {
        "pycharm": {
          "metadata": false,
          "name": "#%%\n",
          "is_executing": false
        }
      }
    },
    {
      "cell_type": "code",
      "execution_count": 59,
      "outputs": [
        {
          "data": {
            "text/plain": "\u0027\u003c\u003c\u003c\u003c\u003c\u003c\u003c\u003c\u003ctest string\u0027"
          },
          "metadata": {},
          "output_type": "execute_result",
          "execution_count": 59
        }
      ],
      "source": "s_test.rjust(20, \"\u003c\")",
      "metadata": {
        "pycharm": {
          "metadata": false,
          "name": "#%%\n",
          "is_executing": false
        }
      }
    },
    {
      "cell_type": "code",
      "execution_count": 60,
      "outputs": [
        {
          "data": {
            "text/plain": "\u0027test string\u0027"
          },
          "metadata": {},
          "output_type": "execute_result",
          "execution_count": 60
        }
      ],
      "source": "s_test.format()",
      "metadata": {
        "pycharm": {
          "metadata": false,
          "name": "#%%\n",
          "is_executing": false
        }
      }
    },
    {
      "cell_type": "code",
      "execution_count": 63,
      "outputs": [
        {
          "data": {
            "text/plain": "2"
          },
          "metadata": {},
          "output_type": "execute_result",
          "execution_count": 63
        }
      ],
      "source": "s_test.count(\u0027st\u0027, 0)",
      "metadata": {
        "pycharm": {
          "metadata": false,
          "name": "#%%\n",
          "is_executing": false
        }
      }
    },
    {
      "cell_type": "code",
      "execution_count": 65,
      "outputs": [
        {
          "data": {
            "text/plain": "True"
          },
          "metadata": {},
          "output_type": "execute_result",
          "execution_count": 65
        }
      ],
      "source": "s_test.endswith((\u0027ing\u0027, \u0027and\u0027, \u0027eng\u0027))",
      "metadata": {
        "pycharm": {
          "metadata": false,
          "name": "#%%\n",
          "is_executing": false
        }
      }
    },
    {
      "cell_type": "code",
      "execution_count": 66,
      "outputs": [
        {
          "data": {
            "text/plain": "False"
          },
          "metadata": {},
          "output_type": "execute_result",
          "execution_count": 66
        }
      ],
      "source": "s_test.isidentifier()",
      "metadata": {
        "pycharm": {
          "metadata": false,
          "name": "#%%\n",
          "is_executing": false
        }
      }
    },
    {
      "cell_type": "code",
      "execution_count": 75,
      "outputs": [
        {
          "data": {
            "text/plain": "\u0027-test string-test string-test string-test string-test string-test string_\u0027"
          },
          "metadata": {},
          "output_type": "execute_result",
          "execution_count": 75
        }
      ],
      "source": "s_test.join(\u0027------_\u0027)",
      "metadata": {
        "pycharm": {
          "metadata": false,
          "name": "#%%\n",
          "is_executing": false
        }
      }
    },
    {
      "cell_type": "code",
      "execution_count": 76,
      "outputs": [
        {
          "data": {
            "text/plain": "\u003creversed at 0x105a7fe48\u003e"
          },
          "metadata": {},
          "output_type": "execute_result",
          "execution_count": 76
        }
      ],
      "source": "reversed(s_test)",
      "metadata": {
        "pycharm": {
          "metadata": false,
          "name": "#%%\n",
          "is_executing": false
        }
      }
    },
    {
      "cell_type": "code",
      "execution_count": 72,
      "outputs": [
        {
          "data": {
            "text/plain": "\u0027gnirts tset\u0027"
          },
          "metadata": {},
          "output_type": "execute_result",
          "execution_count": 72
        }
      ],
      "source": "\u0027\u0027.join(reversed(s_test))",
      "metadata": {
        "pycharm": {
          "metadata": false,
          "name": "#%%\n",
          "is_executing": false
        }
      }
    },
    {
      "cell_type": "code",
      "execution_count": 73,
      "outputs": [
        {
          "data": {
            "text/plain": "\u0027gnirts tset\u0027"
          },
          "metadata": {},
          "output_type": "execute_result",
          "execution_count": 73
        }
      ],
      "source": "s_test[::-1]",
      "metadata": {
        "pycharm": {
          "metadata": false,
          "name": "#%%\n",
          "is_executing": false
        }
      }
    },
    {
      "cell_type": "code",
      "execution_count": 4,
      "outputs": [
        {
          "name": "stdout",
          "text": [
            "image.jpg  is a JPEG image\n"
          ],
          "output_type": "stream"
        }
      ],
      "source": "filename \u003d \u0027image.jpg\u0027\nif filename.lower().endswith((\u0027jpeg\u0027, \u0027jpg\u0027)):\n    print(filename, \u0027 is a JPEG image\u0027)",
      "metadata": {
        "pycharm": {
          "metadata": false,
          "name": "#%%\n",
          "is_executing": false
        }
      }
    },
    {
      "cell_type": "code",
      "execution_count": 5,
      "outputs": [
        {
          "data": {
            "text/plain": "(False, False, False, True)"
          },
          "metadata": {},
          "output_type": "execute_result",
          "execution_count": 5
        }
      ],
      "source": "\u0027917.5\u0027.isdigit(), \u0027\u0027.isdigit(), \u0027-2\u0027.isdigit(), \u0027203\u0027.isdigit()",
      "metadata": {
        "pycharm": {
          "metadata": false,
          "name": "#%%\n",
          "is_executing": false
        }
      }
    },
    {
      "cell_type": "code",
      "execution_count": 7,
      "outputs": [
        {
          "data": {
            "text/plain": "(\u0027no parking \u0027, \u0027\\t no parking\u0027, \u0027no parking\u0027)"
          },
          "metadata": {},
          "output_type": "execute_result",
          "execution_count": 7
        }
      ],
      "source": "s \u003d \u0027\\t no parking \u0027\ns.lstrip(), s.rstrip(), s.strip()",
      "metadata": {
        "pycharm": {
          "metadata": false,
          "name": "#%%\n",
          "is_executing": false
        }
      }
    },
    {
      "cell_type": "code",
      "execution_count": 8,
      "outputs": [
        {
          "data": {
            "text/plain": "\u0027unbreacked\u0027"
          },
          "metadata": {},
          "output_type": "execute_result",
          "execution_count": 8
        }
      ],
      "source": "\u0027\u003c[unbreacked]\u003e\u0027.strip(\u0027[]\u003c\u003e{}()\u0027)",
      "metadata": {
        "pycharm": {
          "metadata": false,
          "name": "#%%\n",
          "is_executing": false
        }
      }
    },
    {
      "cell_type": "code",
      "execution_count": 9,
      "outputs": [
        {
          "data": {
            "text/plain": "\u0027unbrea{{cked\u0027"
          },
          "metadata": {},
          "output_type": "execute_result",
          "execution_count": 9
        }
      ],
      "source": "\u0027\u003c[unbrea{{cked]\u003e\u0027.strip(\u0027[]\u003c\u003e{}()\u0027)\n",
      "metadata": {
        "pycharm": {
          "metadata": false,
          "name": "#%%\n",
          "is_executing": false
        }
      }
    },
    {
      "cell_type": "code",
      "execution_count": 11,
      "outputs": [
        {
          "data": {
            "text/plain": "\u0027fesf for nexf\u0027"
          },
          "metadata": {},
          "output_type": "execute_result",
          "execution_count": 11
        }
      ],
      "source": "str_r \u003d \u0027test for next\u0027\nstr_r.replace(\u0027t\u0027, \u0027f\u0027)",
      "metadata": {
        "pycharm": {
          "metadata": false,
          "name": "#%%\n",
          "is_executing": false
        }
      }
    },
    {
      "cell_type": "code",
      "execution_count": 12,
      "outputs": [
        {
          "data": {
            "text/plain": "\u0027test for next\u0027"
          },
          "metadata": {},
          "output_type": "execute_result",
          "execution_count": 12
        }
      ],
      "source": "str_r",
      "metadata": {
        "pycharm": {
          "metadata": false,
          "name": "#%%\n",
          "is_executing": false
        }
      }
    },
    {
      "cell_type": "code",
      "execution_count": 15,
      "outputs": [
        {
          "data": {
            "text/plain": "\"The novel \u0027Hard Times\u0027 was published in 1854\""
          },
          "metadata": {},
          "output_type": "execute_result",
          "execution_count": 15
        }
      ],
      "source": "\"The novel \u0027{0}\u0027 was published in {1}\".format(\u0027Hard Times\u0027, 1854)",
      "metadata": {
        "pycharm": {
          "metadata": false,
          "name": "#%%\n",
          "is_executing": false
        }
      }
    },
    {
      "cell_type": "code",
      "execution_count": 16,
      "outputs": [
        {
          "data": {
            "text/plain": "\"{I\u0027m in braces} I\u0027m not :-}\""
          },
          "metadata": {},
          "output_type": "execute_result",
          "execution_count": 16
        }
      ],
      "source": "\"{{{0}}} {1} :-}}\".format(\"I\u0027m in braces\", \"I\u0027m not\")",
      "metadata": {
        "pycharm": {
          "metadata": false,
          "name": "#%%\n",
          "is_executing": false
        }
      }
    },
    {
      "cell_type": "code",
      "execution_count": 17,
      "outputs": [
        {
          "traceback": [
            "\u001b[0;31m---------------------------------------------------------------------------\u001b[0m",
            "\u001b[0;31mTypeError\u001b[0m                                 Traceback (most recent call last)",
            "\u001b[0;32m\u003cipython-input-17-5c3e27caf941\u003e\u001b[0m in \u001b[0;36m\u003cmodule\u003e\u001b[0;34m\u001b[0m\n\u001b[0;32m----\u003e 1\u001b[0;31m \u001b[0;34m\"The amount dui is $\"\u001b[0m\u001b[0;34m+\u001b[0m\u001b[0;36m200\u001b[0m\u001b[0;34m\u001b[0m\u001b[0;34m\u001b[0m\u001b[0m\n\u001b[0m",
            "\u001b[0;31mTypeError\u001b[0m: can only concatenate str (not \"int\") to str"
          ],
          "ename": "TypeError",
          "evalue": "can only concatenate str (not \"int\") to str",
          "output_type": "error"
        }
      ],
      "source": "\"The amount dui is $\"+200",
      "metadata": {
        "pycharm": {
          "metadata": false,
          "name": "#%%\n",
          "is_executing": false
        }
      }
    },
    {
      "cell_type": "code",
      "execution_count": 18,
      "outputs": [
        {
          "data": {
            "text/plain": "\u0027The amount dui is $200\u0027"
          },
          "metadata": {},
          "output_type": "execute_result",
          "execution_count": 18
        }
      ],
      "source": "\n\"{0}{1}\".format(\"The amount dui is $\", 200)",
      "metadata": {
        "pycharm": {
          "metadata": false,
          "name": "#%%\n",
          "is_executing": false
        }
      }
    },
    {
      "cell_type": "code",
      "execution_count": 21,
      "outputs": [
        {
          "data": {
            "text/plain": "\u0027The three tops\u0027"
          },
          "metadata": {},
          "output_type": "execute_result",
          "execution_count": 21
        }
      ],
      "source": "x \u003d \u0027three\u0027\ns \u003d \u0027{0} {1} {2}\u0027\ns \u003d s.format(\u0027The\u0027, x, \u0027tops\u0027)\ns",
      "metadata": {
        "pycharm": {
          "metadata": false,
          "name": "#%%\n",
          "is_executing": false
        }
      }
    },
    {
      "cell_type": "code",
      "execution_count": 22,
      "outputs": [
        {
          "data": {
            "text/plain": "\u0027She turned 88 this year\u0027"
          },
          "metadata": {},
          "output_type": "execute_result",
          "execution_count": 22
        }
      ],
      "source": "\"{who} turned {age} this year\".format(who\u003d\u0027She\u0027, age\u003d88)",
      "metadata": {
        "pycharm": {
          "metadata": false,
          "name": "#%%\n",
          "is_executing": false
        }
      }
    },
    {
      "cell_type": "code",
      "execution_count": 24,
      "outputs": [
        {
          "data": {
            "text/plain": "\u0027The boy was 12 last week\u0027"
          },
          "metadata": {},
          "output_type": "execute_result",
          "execution_count": 24
        }
      ],
      "source": "\"The {who} was {0} last week\".format(12, who\u003d\u0027boy\u0027)",
      "metadata": {
        "pycharm": {
          "metadata": false,
          "name": "#%%\n",
          "is_executing": false
        }
      }
    },
    {
      "cell_type": "code",
      "execution_count": 25,
      "outputs": [
        {
          "data": {
            "text/plain": "\u0027We have notepads and pens in stock\u0027"
          },
          "metadata": {},
          "output_type": "execute_result",
          "execution_count": 25
        }
      ],
      "source": "stock \u003d [\u0027paper\u0027, \u0027notepads\u0027, \u0027pens\u0027, \u0027paper clips\u0027]\n\"We have {0[1]} and {0[2]} in stock\".format(stock)",
      "metadata": {
        "pycharm": {
          "metadata": false,
          "name": "#%%\n",
          "is_executing": false
        }
      }
    },
    {
      "cell_type": "code",
      "execution_count": 30,
      "outputs": [
        {
          "data": {
            "text/plain": "\u0027The animal elephant weight 12000kg\u0027"
          },
          "metadata": {},
          "output_type": "execute_result",
          "execution_count": 30
        }
      ],
      "source": "d \u003d dict(animal\u003d\u0027elephant\u0027, weight\u003d12000)\n\"The animal {0[animal]} weight {0[weight]}kg\".format(d)",
      "metadata": {
        "pycharm": {
          "metadata": false,
          "name": "#%%\n",
          "is_executing": false
        }
      }
    },
    {
      "cell_type": "code",
      "execution_count": 32,
      "outputs": [
        {
          "data": {
            "text/plain": "\u0027math pi\u003d\u003d3.141592653589793 sys.maxunicode\u003d\u003d1114111\u0027"
          },
          "metadata": {},
          "output_type": "execute_result",
          "execution_count": 32
        }
      ],
      "source": "import math\n\"math pi\u003d\u003d{0.pi} sys.maxunicode\u003d\u003d{1.maxunicode}\".format(math, sys)",
      "metadata": {
        "pycharm": {
          "metadata": false,
          "name": "#%%\n",
          "is_executing": false
        }
      }
    },
    {
      "cell_type": "code",
      "execution_count": 34,
      "outputs": [
        {
          "data": {
            "text/plain": "\"93.4 93.4 Decimal(\u002793.4\u0027) Decimal(\u002793.4\u0027)\""
          },
          "metadata": {},
          "output_type": "execute_result",
          "execution_count": 34
        }
      ],
      "source": "# Спецификаторы вывода строкового представления или репрезентативного\nimport decimal\n\"{0} {0!s} {0!r} {0!a}\".format(decimal.Decimal(\"93.4\"))",
      "metadata": {
        "pycharm": {
          "metadata": false,
          "name": "#%%\n",
          "is_executing": false
        }
      }
    },
    {
      "cell_type": "code",
      "execution_count": null,
      "outputs": [],
      "source": "",
      "metadata": {
        "pycharm": {
          "metadata": false,
          "name": "#%%\n"
        }
      }
    },
    {
      "cell_type": "markdown",
      "source": "Спецификаторы формата\n",
      "metadata": {
        "pycharm": {
          "metadata": false
        }
      }
    },
    {
      "cell_type": "code",
      "execution_count": 35,
      "outputs": [
        {
          "data": {
            "text/plain": "\u0027The swords of truth\u0027"
          },
          "metadata": {},
          "output_type": "execute_result",
          "execution_count": 35
        }
      ],
      "source": "s \u003d \u0027The swords of truth\u0027\n\"{0}\".format(s)",
      "metadata": {
        "pycharm": {
          "metadata": false,
          "name": "#%%\n",
          "is_executing": false
        }
      }
    },
    {
      "cell_type": "code",
      "execution_count": 36,
      "outputs": [
        {
          "data": {
            "text/plain": "\u0027The swords of truth      \u0027"
          },
          "metadata": {},
          "output_type": "execute_result",
          "execution_count": 36
        }
      ],
      "source": "\"{0:25}\".format(s)",
      "metadata": {
        "pycharm": {
          "metadata": false,
          "name": "#%%\n",
          "is_executing": false
        }
      }
    },
    {
      "cell_type": "code",
      "execution_count": 37,
      "outputs": [
        {
          "data": {
            "text/plain": "\u0027      The swords of truth\u0027"
          },
          "metadata": {},
          "output_type": "execute_result",
          "execution_count": 37
        }
      ],
      "source": "\"{0:\u003e25}\".format(s)",
      "metadata": {
        "pycharm": {
          "metadata": false,
          "name": "#%%\n",
          "is_executing": false
        }
      }
    },
    {
      "cell_type": "code",
      "execution_count": 38,
      "outputs": [
        {
          "data": {
            "text/plain": "\u0027   The swords of truth   \u0027"
          },
          "metadata": {},
          "output_type": "execute_result",
          "execution_count": 38
        }
      ],
      "source": "\"{0:^25}\".format(s)",
      "metadata": {
        "pycharm": {
          "metadata": false,
          "name": "#%%\n",
          "is_executing": false
        }
      }
    },
    {
      "cell_type": "code",
      "execution_count": 39,
      "outputs": [
        {
          "data": {
            "text/plain": "\u0027---The swords of truth---\u0027"
          },
          "metadata": {},
          "output_type": "execute_result",
          "execution_count": 39
        }
      ],
      "source": "\"{0:-^25}\".format(s)",
      "metadata": {
        "pycharm": {
          "metadata": false,
          "name": "#%%\n",
          "is_executing": false
        }
      }
    },
    {
      "cell_type": "code",
      "execution_count": 40,
      "outputs": [
        {
          "data": {
            "text/plain": "\u0027The swords of truth......\u0027"
          },
          "metadata": {},
          "output_type": "execute_result",
          "execution_count": 40
        }
      ],
      "source": "\"{0:.\u003c25}\".format(s)",
      "metadata": {
        "pycharm": {
          "metadata": false,
          "name": "#%%\n",
          "is_executing": false
        }
      }
    },
    {
      "cell_type": "code",
      "execution_count": 41,
      "outputs": [
        {
          "data": {
            "text/plain": "\u0027The swords\u0027"
          },
          "metadata": {},
          "output_type": "execute_result",
          "execution_count": 41
        }
      ],
      "source": "\"{0:.10}\".format(s)",
      "metadata": {
        "pycharm": {
          "metadata": false,
          "name": "#%%\n",
          "is_executing": false
        }
      }
    },
    {
      "cell_type": "code",
      "execution_count": 42,
      "outputs": [
        {
          "data": {
            "text/plain": "\u0027The swords o\u0027"
          },
          "metadata": {},
          "output_type": "execute_result",
          "execution_count": 42
        }
      ],
      "source": "maxwidth\u003d12\n\"{0}\".format(s[:maxwidth])",
      "metadata": {
        "pycharm": {
          "metadata": false,
          "name": "#%%\n",
          "is_executing": false
        }
      }
    },
    {
      "cell_type": "code",
      "execution_count": 43,
      "outputs": [
        {
          "data": {
            "text/plain": "\u0027The swords o\u0027"
          },
          "metadata": {},
          "output_type": "execute_result",
          "execution_count": 43
        }
      ],
      "source": "\"{0:.{1}}\".format(s, maxwidth)",
      "metadata": {
        "pycharm": {
          "metadata": false,
          "name": "#%%\n",
          "is_executing": false
        }
      }
    },
    {
      "cell_type": "code",
      "execution_count": 44,
      "outputs": [
        {
          "data": {
            "text/plain": "\u0027000008749203\u0027"
          },
          "metadata": {},
          "output_type": "execute_result",
          "execution_count": 44
        }
      ],
      "source": "\"{0:0\u003d12}\".format(8749203)",
      "metadata": {
        "pycharm": {
          "metadata": false,
          "name": "#%%\n",
          "is_executing": false
        }
      }
    },
    {
      "cell_type": "code",
      "execution_count": 45,
      "outputs": [
        {
          "data": {
            "text/plain": "\u0027-00008749203\u0027"
          },
          "metadata": {},
          "output_type": "execute_result",
          "execution_count": 45
        }
      ],
      "source": "\"{0:0\u003d12}\".format(-8749203)",
      "metadata": {
        "pycharm": {
          "metadata": false,
          "name": "#%%\n",
          "is_executing": false
        }
      }
    },
    {
      "cell_type": "code",
      "execution_count": 47,
      "outputs": [
        {
          "data": {
            "text/plain": "\u0027000008749203\u0027"
          },
          "metadata": {},
          "output_type": "execute_result",
          "execution_count": 47
        }
      ],
      "source": "\"{0:012}\".format(8749203)",
      "metadata": {
        "pycharm": {
          "metadata": false,
          "name": "#%%\n",
          "is_executing": false
        }
      }
    },
    {
      "cell_type": "code",
      "execution_count": 48,
      "outputs": [
        {
          "data": {
            "text/plain": "\u0027-00008749203\u0027"
          },
          "metadata": {},
          "output_type": "execute_result",
          "execution_count": 48
        }
      ],
      "source": "\"{0:012}\".format(-8749203)",
      "metadata": {
        "pycharm": {
          "metadata": false,
          "name": "#%%\n",
          "is_executing": false
        }
      }
    },
    {
      "cell_type": "code",
      "execution_count": 49,
      "outputs": [
        {
          "data": {
            "text/plain": "\u002718340427*******\u0027"
          },
          "metadata": {},
          "output_type": "execute_result",
          "execution_count": 49
        }
      ],
      "source": "\"{0:*\u003c15}\".format(18340427)",
      "metadata": {
        "pycharm": {
          "metadata": false,
          "name": "#%%\n",
          "is_executing": false
        }
      }
    },
    {
      "cell_type": "code",
      "execution_count": 50,
      "outputs": [
        {
          "data": {
            "text/plain": "\u0027*******18340427\u0027"
          },
          "metadata": {},
          "output_type": "execute_result",
          "execution_count": 50
        }
      ],
      "source": "\"{0:*\u003e15}\".format(18340427)",
      "metadata": {
        "pycharm": {
          "metadata": false,
          "name": "#%%\n",
          "is_executing": false
        }
      }
    },
    {
      "cell_type": "code",
      "execution_count": 51,
      "outputs": [
        {
          "data": {
            "text/plain": "\u0027***18340427****\u0027"
          },
          "metadata": {},
          "output_type": "execute_result",
          "execution_count": 51
        }
      ],
      "source": "\"{0:*^15}\".format(18340427)",
      "metadata": {
        "pycharm": {
          "metadata": false,
          "name": "#%%\n",
          "is_executing": false
        }
      }
    },
    {
      "cell_type": "code",
      "execution_count": 52,
      "outputs": [
        {
          "data": {
            "text/plain": "\u0027***-18340427***\u0027"
          },
          "metadata": {},
          "output_type": "execute_result",
          "execution_count": 52
        }
      ],
      "source": "\"{0:*^15}\".format(-18340427)\n",
      "metadata": {
        "pycharm": {
          "metadata": false,
          "name": "#%%\n",
          "is_executing": false
        }
      }
    },
    {
      "cell_type": "markdown",
      "source": "управление выводом знака числа\n",
      "metadata": {
        "pycharm": {
          "metadata": false
        }
      }
    },
    {
      "cell_type": "code",
      "execution_count": 53,
      "outputs": [
        {
          "data": {
            "text/plain": "\u0027[ 539802] [-539802]\u0027"
          },
          "metadata": {},
          "output_type": "execute_result",
          "execution_count": 53
        }
      ],
      "source": "\"[{0: }] [{1: }]\".format(539802, -539802)",
      "metadata": {
        "pycharm": {
          "metadata": false,
          "name": "#%%\n",
          "is_executing": false
        }
      }
    },
    {
      "cell_type": "code",
      "execution_count": 54,
      "outputs": [
        {
          "data": {
            "text/plain": "\u0027[+539802] [-539802]\u0027"
          },
          "metadata": {},
          "output_type": "execute_result",
          "execution_count": 54
        }
      ],
      "source": "\"[{0:+}] [{1:+}]\".format(539802, -539802)\n",
      "metadata": {
        "pycharm": {
          "metadata": false,
          "name": "#%%\n",
          "is_executing": false
        }
      }
    },
    {
      "cell_type": "code",
      "execution_count": 55,
      "outputs": [
        {
          "data": {
            "text/plain": "\u0027[539802] [-539802]\u0027"
          },
          "metadata": {},
          "output_type": "execute_result",
          "execution_count": 55
        }
      ],
      "source": "\"[{0:-}] [{1:-}]\".format(539802, -539802)\n",
      "metadata": {
        "pycharm": {
          "metadata": false,
          "name": "#%%\n",
          "is_executing": false
        }
      }
    },
    {
      "cell_type": "code",
      "execution_count": 56,
      "outputs": [
        {
          "data": {
            "text/plain": "\u0027110111101111101011001110 67575316 deface DEFACE\u0027"
          },
          "metadata": {},
          "output_type": "execute_result",
          "execution_count": 56
        }
      ],
      "source": "\"{0:b} {0:o} {0:x} {0:X}\".format(14613198)",
      "metadata": {
        "pycharm": {
          "metadata": false,
          "name": "#%%\n",
          "is_executing": false
        }
      }
    },
    {
      "cell_type": "code",
      "execution_count": null,
      "outputs": [],
      "source": "\n",
      "metadata": {
        "pycharm": {
          "metadata": false,
          "name": "#%%\n"
        }
      }
    }
  ],
  "metadata": {
    "language_info": {
      "codemirror_mode": {
        "name": "ipython",
        "version": 2
      },
      "file_extension": ".py",
      "mimetype": "text/x-python",
      "name": "python",
      "nbconvert_exporter": "python",
      "pygments_lexer": "ipython2",
      "version": "2.7.6"
    },
    "kernelspec": {
      "name": "python3",
      "language": "python",
      "display_name": "Python 3"
    },
    "stem_cell": {
      "cell_type": "raw",
      "source": "",
      "metadata": {
        "pycharm": {
          "metadata": false
        }
      }
    }
  },
  "nbformat": 4,
  "nbformat_minor": 0
}